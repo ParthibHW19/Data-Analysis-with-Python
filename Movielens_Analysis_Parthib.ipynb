{
  "nbformat": 4,
  "nbformat_minor": 0,
  "metadata": {
    "colab": {
      "name": "Movielens Analysis_Parthib.ipynb",
      "provenance": [],
      "collapsed_sections": []
    },
    "kernelspec": {
      "display_name": "Python 2",
      "language": "python",
      "name": "python2"
    }
  },
  "cells": [
    {
      "cell_type": "markdown",
      "metadata": {
        "id": "fzcdHykmPxkt"
      },
      "source": [
        "\n",
        "# Project 04: Movielens Dataset Analysis\n",
        "**Code Submitted by: Parthib**\n"
      ]
    },
    {
      "cell_type": "code",
      "metadata": {
        "id": "-mJDr1c6Pxkt"
      },
      "source": [
        "#import the required libraries\n",
        "import pandas as pd\n",
        "import numpy as np\n",
        "import matplotlib.pyplot as plt\n",
        "%matplotlib inline\n",
        "from sklearn.model_selection import train_test_split\n",
        "from sklearn.metrics import r2_score\n",
        "from sklearn.model_selection import KFold\n",
        "from sklearn.model_selection import cross_val_score\n",
        "from sklearn.metrics import classification_report\n",
        "from sklearn.metrics import confusion_matrix\n",
        "from sklearn.metrics import accuracy_score\n",
        "from sklearn.linear_model import LogisticRegression\n",
        "from sklearn.tree import DecisionTreeClassifier\n",
        "from sklearn.neighbors import KNeighborsClassifier\n",
        "from sklearn.discriminant_analysis import LinearDiscriminantAnalysis\n",
        "from sklearn.naive_bayes import GaussianNB\n",
        "from sklearn.svm import SVC"
      ],
      "execution_count": null,
      "outputs": []
    },
    {
      "cell_type": "code",
      "metadata": {
        "id": "2IB9D2OTaf6h"
      },
      "source": [
        "#import datasets:\n",
        "# Load users dataset\n",
        "users_df = pd.read_csv('users.dat',sep=\"::\", header=None,names=['UserID','Gender','Age','Occupation','Zip-code'],dtype={'UserID': np.int32, 'Gender': np.str, 'Age': np.int32, 'Occupation' : np.int32, 'Zip-code' : np.str}, engine='python')\n",
        "#load Ratings dataset\n",
        "ratings_df = pd.read_csv('ratings.dat',sep=\"::\", header=None,names=['UserID','MovieID','Rating','Timestamp'],dtype={'UserID': np.int32, 'MovieID': np.int32, 'Rating': np.int32, 'Timestamp' : np.str}, engine='python')\n",
        "#load movies dataset\n",
        "movie_df = pd.read_csv('movies.dat',sep=\"::\", header=None, names=['MovieID','Title','Genres'],dtype={'MovieID': np.int32, 'Title': np.str, 'Genres': np.str}, engine='python')"
      ],
      "execution_count": null,
      "outputs": []
    },
    {
      "cell_type": "markdown",
      "metadata": {
        "id": "pLH4Wya0R0Cn"
      },
      "source": [
        "# **1. Perform the Exploratory Data Analysis (EDA) for the users dataset**\n"
      ]
    },
    {
      "cell_type": "code",
      "metadata": {
        "id": "j210Y9YzPxk1",
        "outputId": "e2f7264f-196d-4ad4-9ac6-2d438accd21f",
        "colab": {
          "base_uri": "https://localhost:8080/",
          "height": 204
        }
      },
      "source": [
        "#view first 5 records\n",
        "users_df.head()"
      ],
      "execution_count": null,
      "outputs": [
        {
          "output_type": "execute_result",
          "data": {
            "text/html": [
              "<div>\n",
              "<style scoped>\n",
              "    .dataframe tbody tr th:only-of-type {\n",
              "        vertical-align: middle;\n",
              "    }\n",
              "\n",
              "    .dataframe tbody tr th {\n",
              "        vertical-align: top;\n",
              "    }\n",
              "\n",
              "    .dataframe thead th {\n",
              "        text-align: right;\n",
              "    }\n",
              "</style>\n",
              "<table border=\"1\" class=\"dataframe\">\n",
              "  <thead>\n",
              "    <tr style=\"text-align: right;\">\n",
              "      <th></th>\n",
              "      <th>UserID</th>\n",
              "      <th>Gender</th>\n",
              "      <th>Age</th>\n",
              "      <th>Occupation</th>\n",
              "      <th>Zip-code</th>\n",
              "    </tr>\n",
              "  </thead>\n",
              "  <tbody>\n",
              "    <tr>\n",
              "      <th>0</th>\n",
              "      <td>1</td>\n",
              "      <td>F</td>\n",
              "      <td>1</td>\n",
              "      <td>10</td>\n",
              "      <td>48067</td>\n",
              "    </tr>\n",
              "    <tr>\n",
              "      <th>1</th>\n",
              "      <td>2</td>\n",
              "      <td>M</td>\n",
              "      <td>56</td>\n",
              "      <td>16</td>\n",
              "      <td>70072</td>\n",
              "    </tr>\n",
              "    <tr>\n",
              "      <th>2</th>\n",
              "      <td>3</td>\n",
              "      <td>M</td>\n",
              "      <td>25</td>\n",
              "      <td>15</td>\n",
              "      <td>55117</td>\n",
              "    </tr>\n",
              "    <tr>\n",
              "      <th>3</th>\n",
              "      <td>4</td>\n",
              "      <td>M</td>\n",
              "      <td>45</td>\n",
              "      <td>7</td>\n",
              "      <td>02460</td>\n",
              "    </tr>\n",
              "    <tr>\n",
              "      <th>4</th>\n",
              "      <td>5</td>\n",
              "      <td>M</td>\n",
              "      <td>25</td>\n",
              "      <td>20</td>\n",
              "      <td>55455</td>\n",
              "    </tr>\n",
              "  </tbody>\n",
              "</table>\n",
              "</div>"
            ],
            "text/plain": [
              "   UserID Gender  Age  Occupation Zip-code\n",
              "0       1      F    1          10    48067\n",
              "1       2      M   56          16    70072\n",
              "2       3      M   25          15    55117\n",
              "3       4      M   45           7    02460\n",
              "4       5      M   25          20    55455"
            ]
          },
          "metadata": {
            "tags": []
          },
          "execution_count": 3
        }
      ]
    },
    {
      "cell_type": "code",
      "metadata": {
        "id": "r05q9aEmPxk3",
        "outputId": "bec1495f-070c-468e-803b-a5f7aa42632a",
        "colab": {
          "base_uri": "https://localhost:8080/",
          "height": 187
        }
      },
      "source": [
        "# view the info()\n",
        "users_df.info()"
      ],
      "execution_count": null,
      "outputs": [
        {
          "output_type": "stream",
          "text": [
            "<class 'pandas.core.frame.DataFrame'>\n",
            "RangeIndex: 6040 entries, 0 to 6039\n",
            "Data columns (total 5 columns):\n",
            "UserID        6040 non-null int32\n",
            "Gender        6040 non-null object\n",
            "Age           6040 non-null int32\n",
            "Occupation    6040 non-null int32\n",
            "Zip-code      6040 non-null object\n",
            "dtypes: int32(3), object(2)\n",
            "memory usage: 165.2+ KB\n"
          ],
          "name": "stdout"
        }
      ]
    },
    {
      "cell_type": "code",
      "metadata": {
        "id": "NKkrAZFgPxk5",
        "outputId": "e929335e-f7eb-47e1-924a-dbde498546ca",
        "colab": {
          "base_uri": "https://localhost:8080/",
          "height": 34
        }
      },
      "source": [
        "#see the shape\n",
        "users_df.shape"
      ],
      "execution_count": null,
      "outputs": [
        {
          "output_type": "execute_result",
          "data": {
            "text/plain": [
              "(6040, 5)"
            ]
          },
          "metadata": {
            "tags": []
          },
          "execution_count": 5
        }
      ]
    },
    {
      "cell_type": "code",
      "metadata": {
        "id": "DTtav5rIPxk7",
        "outputId": "20d8e821-f1f1-46ac-d6dd-9adb0ea6c934",
        "colab": {
          "base_uri": "https://localhost:8080/",
          "height": 297
        }
      },
      "source": [
        "#describe\n",
        "users_df.describe()"
      ],
      "execution_count": null,
      "outputs": [
        {
          "output_type": "execute_result",
          "data": {
            "text/html": [
              "<div>\n",
              "<style scoped>\n",
              "    .dataframe tbody tr th:only-of-type {\n",
              "        vertical-align: middle;\n",
              "    }\n",
              "\n",
              "    .dataframe tbody tr th {\n",
              "        vertical-align: top;\n",
              "    }\n",
              "\n",
              "    .dataframe thead th {\n",
              "        text-align: right;\n",
              "    }\n",
              "</style>\n",
              "<table border=\"1\" class=\"dataframe\">\n",
              "  <thead>\n",
              "    <tr style=\"text-align: right;\">\n",
              "      <th></th>\n",
              "      <th>UserID</th>\n",
              "      <th>Age</th>\n",
              "      <th>Occupation</th>\n",
              "    </tr>\n",
              "  </thead>\n",
              "  <tbody>\n",
              "    <tr>\n",
              "      <th>count</th>\n",
              "      <td>6040.000000</td>\n",
              "      <td>6040.000000</td>\n",
              "      <td>6040.000000</td>\n",
              "    </tr>\n",
              "    <tr>\n",
              "      <th>mean</th>\n",
              "      <td>3020.500000</td>\n",
              "      <td>30.639238</td>\n",
              "      <td>8.146854</td>\n",
              "    </tr>\n",
              "    <tr>\n",
              "      <th>std</th>\n",
              "      <td>1743.742145</td>\n",
              "      <td>12.895962</td>\n",
              "      <td>6.329511</td>\n",
              "    </tr>\n",
              "    <tr>\n",
              "      <th>min</th>\n",
              "      <td>1.000000</td>\n",
              "      <td>1.000000</td>\n",
              "      <td>0.000000</td>\n",
              "    </tr>\n",
              "    <tr>\n",
              "      <th>25%</th>\n",
              "      <td>1510.750000</td>\n",
              "      <td>25.000000</td>\n",
              "      <td>3.000000</td>\n",
              "    </tr>\n",
              "    <tr>\n",
              "      <th>50%</th>\n",
              "      <td>3020.500000</td>\n",
              "      <td>25.000000</td>\n",
              "      <td>7.000000</td>\n",
              "    </tr>\n",
              "    <tr>\n",
              "      <th>75%</th>\n",
              "      <td>4530.250000</td>\n",
              "      <td>35.000000</td>\n",
              "      <td>14.000000</td>\n",
              "    </tr>\n",
              "    <tr>\n",
              "      <th>max</th>\n",
              "      <td>6040.000000</td>\n",
              "      <td>56.000000</td>\n",
              "      <td>20.000000</td>\n",
              "    </tr>\n",
              "  </tbody>\n",
              "</table>\n",
              "</div>"
            ],
            "text/plain": [
              "            UserID          Age   Occupation\n",
              "count  6040.000000  6040.000000  6040.000000\n",
              "mean   3020.500000    30.639238     8.146854\n",
              "std    1743.742145    12.895962     6.329511\n",
              "min       1.000000     1.000000     0.000000\n",
              "25%    1510.750000    25.000000     3.000000\n",
              "50%    3020.500000    25.000000     7.000000\n",
              "75%    4530.250000    35.000000    14.000000\n",
              "max    6040.000000    56.000000    20.000000"
            ]
          },
          "metadata": {
            "tags": []
          },
          "execution_count": 6
        }
      ]
    },
    {
      "cell_type": "code",
      "metadata": {
        "id": "gqerksB7Pxk9",
        "outputId": "46d81570-0f27-4f77-8283-c1c085607bf4",
        "colab": {
          "base_uri": "https://localhost:8080/",
          "height": 119
        }
      },
      "source": [
        "#check if any features are null\n",
        "users_df.isnull().sum()"
      ],
      "execution_count": null,
      "outputs": [
        {
          "output_type": "execute_result",
          "data": {
            "text/plain": [
              "UserID        0\n",
              "Gender        0\n",
              "Age           0\n",
              "Occupation    0\n",
              "Zip-code      0\n",
              "dtype: int64"
            ]
          },
          "metadata": {
            "tags": []
          },
          "execution_count": 7
        }
      ]
    },
    {
      "cell_type": "code",
      "metadata": {
        "id": "dPKwks6KPxlA",
        "outputId": "c9746033-7334-43b0-9f87-d2f9b636a0c4",
        "colab": {
          "base_uri": "https://localhost:8080/",
          "height": 170
        }
      },
      "source": [
        "#visulaize user age distribution\n",
        "age_group = users_df.groupby('Age').size()\n",
        "age_group"
      ],
      "execution_count": null,
      "outputs": [
        {
          "output_type": "execute_result",
          "data": {
            "text/plain": [
              "Age\n",
              "1      222\n",
              "18    1103\n",
              "25    2096\n",
              "35    1193\n",
              "45     550\n",
              "50     496\n",
              "56     380\n",
              "dtype: int64"
            ]
          },
          "metadata": {
            "tags": []
          },
          "execution_count": 8
        }
      ]
    },
    {
      "cell_type": "code",
      "metadata": {
        "id": "b_ov_NoFPxlG",
        "outputId": "8f444c0e-e13e-49b9-edb8-e8f0b9ef4ef8",
        "colab": {
          "base_uri": "https://localhost:8080/",
          "height": 349
        }
      },
      "source": [
        "#plot the histogram (histrogram is good for visualizing distribution)\n",
        "plt.figure(figsize=(15,5))\n",
        "plt.hist(data=age_group,x=users_df.Age,bins=25)\n",
        "plt.title('Users Age Distribution')\n",
        "plt.xlabel('Age')\n",
        "plt.ylabel('Number of users')\n",
        "plt.show()"
      ],
      "execution_count": null,
      "outputs": [
        {
          "output_type": "display_data",
          "data": {
            "image/png": "[encoded data removed]",
            "text/plain": [
              "<Figure size 1080x360 with 1 Axes>"
            ]
          },
          "metadata": {
            "tags": []
          }
        }
      ]
    },
    {
      "cell_type": "markdown",
      "metadata": {
        "id": "CNwlp8w2z_XU"
      },
      "source": [
        "## ***Finding: Most of the users 25 years of age***"
      ]
    },
    {
      "cell_type": "markdown",
      "metadata": {
        "id": "rQBoylOedjgc"
      },
      "source": [
        "# **2. visualize overall ratings by users**"
      ]
    },
    {
      "cell_type": "code",
      "metadata": {
        "id": "aQWoqPfTPxlI",
        "outputId": "7f2f45f3-7846-4e02-8627-56ceec645aef",
        "colab": {
          "base_uri": "https://localhost:8080/",
          "height": 204
        }
      },
      "source": [
        "# view first 5 records of ratings dataset\n",
        "ratings_df.head()\n"
      ],
      "execution_count": null,
      "outputs": [
        {
          "output_type": "execute_result",
          "data": {
            "text/html": [
              "<div>\n",
              "<style scoped>\n",
              "    .dataframe tbody tr th:only-of-type {\n",
              "        vertical-align: middle;\n",
              "    }\n",
              "\n",
              "    .dataframe tbody tr th {\n",
              "        vertical-align: top;\n",
              "    }\n",
              "\n",
              "    .dataframe thead th {\n",
              "        text-align: right;\n",
              "    }\n",
              "</style>\n",
              "<table border=\"1\" class=\"dataframe\">\n",
              "  <thead>\n",
              "    <tr style=\"text-align: right;\">\n",
              "      <th></th>\n",
              "      <th>UserID</th>\n",
              "      <th>MovieID</th>\n",
              "      <th>Rating</th>\n",
              "      <th>Timestamp</th>\n",
              "    </tr>\n",
              "  </thead>\n",
              "  <tbody>\n",
              "    <tr>\n",
              "      <th>0</th>\n",
              "      <td>1</td>\n",
              "      <td>1193</td>\n",
              "      <td>5</td>\n",
              "      <td>978300760</td>\n",
              "    </tr>\n",
              "    <tr>\n",
              "      <th>1</th>\n",
              "      <td>1</td>\n",
              "      <td>661</td>\n",
              "      <td>3</td>\n",
              "      <td>978302109</td>\n",
              "    </tr>\n",
              "    <tr>\n",
              "      <th>2</th>\n",
              "      <td>1</td>\n",
              "      <td>914</td>\n",
              "      <td>3</td>\n",
              "      <td>978301968</td>\n",
              "    </tr>\n",
              "    <tr>\n",
              "      <th>3</th>\n",
              "      <td>1</td>\n",
              "      <td>3408</td>\n",
              "      <td>4</td>\n",
              "      <td>978300275</td>\n",
              "    </tr>\n",
              "    <tr>\n",
              "      <th>4</th>\n",
              "      <td>1</td>\n",
              "      <td>2355</td>\n",
              "      <td>5</td>\n",
              "      <td>978824291</td>\n",
              "    </tr>\n",
              "  </tbody>\n",
              "</table>\n",
              "</div>"
            ],
            "text/plain": [
              "   UserID  MovieID  Rating  Timestamp\n",
              "0       1     1193       5  978300760\n",
              "1       1      661       3  978302109\n",
              "2       1      914       3  978301968\n",
              "3       1     3408       4  978300275\n",
              "4       1     2355       5  978824291"
            ]
          },
          "metadata": {
            "tags": []
          },
          "execution_count": 10
        }
      ]
    },
    {
      "cell_type": "code",
      "metadata": {
        "id": "_8GaH4ZWPxlL",
        "outputId": "37ce4342-2461-4d1a-a972-4cd40cccf8ac",
        "colab": {
          "base_uri": "https://localhost:8080/",
          "height": 170
        }
      },
      "source": [
        "#view the info\n",
        "ratings_df.info()"
      ],
      "execution_count": null,
      "outputs": [
        {
          "output_type": "stream",
          "text": [
            "<class 'pandas.core.frame.DataFrame'>\n",
            "RangeIndex: 1000209 entries, 0 to 1000208\n",
            "Data columns (total 4 columns):\n",
            "UserID       1000209 non-null int32\n",
            "MovieID      1000209 non-null int32\n",
            "Rating       1000209 non-null int32\n",
            "Timestamp    1000209 non-null object\n",
            "dtypes: int32(3), object(1)\n",
            "memory usage: 19.1+ MB\n"
          ],
          "name": "stdout"
        }
      ]
    },
    {
      "cell_type": "code",
      "metadata": {
        "id": "eL0yshOzPxlN",
        "outputId": "6d3a0128-0f36-472c-bd48-174e283dd804",
        "colab": {
          "base_uri": "https://localhost:8080/",
          "height": 297
        }
      },
      "source": [
        "#describe\n",
        "ratings_df.describe()"
      ],
      "execution_count": null,
      "outputs": [
        {
          "output_type": "execute_result",
          "data": {
            "text/html": [
              "<div>\n",
              "<style scoped>\n",
              "    .dataframe tbody tr th:only-of-type {\n",
              "        vertical-align: middle;\n",
              "    }\n",
              "\n",
              "    .dataframe tbody tr th {\n",
              "        vertical-align: top;\n",
              "    }\n",
              "\n",
              "    .dataframe thead th {\n",
              "        text-align: right;\n",
              "    }\n",
              "</style>\n",
              "<table border=\"1\" class=\"dataframe\">\n",
              "  <thead>\n",
              "    <tr style=\"text-align: right;\">\n",
              "      <th></th>\n",
              "      <th>UserID</th>\n",
              "      <th>MovieID</th>\n",
              "      <th>Rating</th>\n",
              "    </tr>\n",
              "  </thead>\n",
              "  <tbody>\n",
              "    <tr>\n",
              "      <th>count</th>\n",
              "      <td>1.000209e+06</td>\n",
              "      <td>1.000209e+06</td>\n",
              "      <td>1.000209e+06</td>\n",
              "    </tr>\n",
              "    <tr>\n",
              "      <th>mean</th>\n",
              "      <td>3.024512e+03</td>\n",
              "      <td>1.865540e+03</td>\n",
              "      <td>3.581564e+00</td>\n",
              "    </tr>\n",
              "    <tr>\n",
              "      <th>std</th>\n",
              "      <td>1.728413e+03</td>\n",
              "      <td>1.096041e+03</td>\n",
              "      <td>1.117102e+00</td>\n",
              "    </tr>\n",
              "    <tr>\n",
              "      <th>min</th>\n",
              "      <td>1.000000e+00</td>\n",
              "      <td>1.000000e+00</td>\n",
              "      <td>1.000000e+00</td>\n",
              "    </tr>\n",
              "    <tr>\n",
              "      <th>25%</th>\n",
              "      <td>1.506000e+03</td>\n",
              "      <td>1.030000e+03</td>\n",
              "      <td>3.000000e+00</td>\n",
              "    </tr>\n",
              "    <tr>\n",
              "      <th>50%</th>\n",
              "      <td>3.070000e+03</td>\n",
              "      <td>1.835000e+03</td>\n",
              "      <td>4.000000e+00</td>\n",
              "    </tr>\n",
              "    <tr>\n",
              "      <th>75%</th>\n",
              "      <td>4.476000e+03</td>\n",
              "      <td>2.770000e+03</td>\n",
              "      <td>4.000000e+00</td>\n",
              "    </tr>\n",
              "    <tr>\n",
              "      <th>max</th>\n",
              "      <td>6.040000e+03</td>\n",
              "      <td>3.952000e+03</td>\n",
              "      <td>5.000000e+00</td>\n",
              "    </tr>\n",
              "  </tbody>\n",
              "</table>\n",
              "</div>"
            ],
            "text/plain": [
              "             UserID       MovieID        Rating\n",
              "count  1.000209e+06  1.000209e+06  1.000209e+06\n",
              "mean   3.024512e+03  1.865540e+03  3.581564e+00\n",
              "std    1.728413e+03  1.096041e+03  1.117102e+00\n",
              "min    1.000000e+00  1.000000e+00  1.000000e+00\n",
              "25%    1.506000e+03  1.030000e+03  3.000000e+00\n",
              "50%    3.070000e+03  1.835000e+03  4.000000e+00\n",
              "75%    4.476000e+03  2.770000e+03  4.000000e+00\n",
              "max    6.040000e+03  3.952000e+03  5.000000e+00"
            ]
          },
          "metadata": {
            "tags": []
          },
          "execution_count": 12
        }
      ]
    },
    {
      "cell_type": "code",
      "metadata": {
        "id": "yl1cW-jVPxlO",
        "outputId": "b18c5966-cc84-4d35-a19f-a477defad8a3",
        "colab": {
          "base_uri": "https://localhost:8080/",
          "height": 102
        }
      },
      "source": [
        "#check if any null values\n",
        "ratings_df.isnull().sum()"
      ],
      "execution_count": null,
      "outputs": [
        {
          "output_type": "execute_result",
          "data": {
            "text/plain": [
              "UserID       0\n",
              "MovieID      0\n",
              "Rating       0\n",
              "Timestamp    0\n",
              "dtype: int64"
            ]
          },
          "metadata": {
            "tags": []
          },
          "execution_count": 13
        }
      ]
    },
    {
      "cell_type": "code",
      "metadata": {
        "id": "CZfc4gZ1PxlQ",
        "outputId": "bd087ac6-24aa-40f5-b2bb-7078be15cac3",
        "colab": {
          "base_uri": "https://localhost:8080/",
          "height": 1088
        }
      },
      "source": [
        "#visualize overall ratings by users\n",
        "user_ratings = ratings_df.groupby('UserID').size()\n",
        "user_ratings"
      ],
      "execution_count": null,
      "outputs": [
        {
          "output_type": "execute_result",
          "data": {
            "text/plain": [
              "UserID\n",
              "1        53\n",
              "2       129\n",
              "3        51\n",
              "4        21\n",
              "5       198\n",
              "6        71\n",
              "7        31\n",
              "8       139\n",
              "9       106\n",
              "10      401\n",
              "11      137\n",
              "12       23\n",
              "13      108\n",
              "14       25\n",
              "15      201\n",
              "16       35\n",
              "17      211\n",
              "18      305\n",
              "19      255\n",
              "20       24\n",
              "21       22\n",
              "22      297\n",
              "23      304\n",
              "24      136\n",
              "25       85\n",
              "26      400\n",
              "27       70\n",
              "28      107\n",
              "29      108\n",
              "30       43\n",
              "       ... \n",
              "6011    197\n",
              "6012     23\n",
              "6013    124\n",
              "6014    106\n",
              "6015     57\n",
              "6016    909\n",
              "6017     33\n",
              "6018    159\n",
              "6019     89\n",
              "6020     43\n",
              "6021    132\n",
              "6022     48\n",
              "6023    147\n",
              "6024     95\n",
              "6025    271\n",
              "6026     81\n",
              "6027     36\n",
              "6028     47\n",
              "6029     31\n",
              "6030    115\n",
              "6031     51\n",
              "6032    104\n",
              "6033     60\n",
              "6034     21\n",
              "6035    280\n",
              "6036    888\n",
              "6037    202\n",
              "6038     20\n",
              "6039    123\n",
              "6040    341\n",
              "Length: 6040, dtype: int64"
            ]
          },
          "metadata": {
            "tags": []
          },
          "execution_count": 14
        }
      ]
    },
    {
      "cell_type": "code",
      "metadata": {
        "id": "jXHagJ_5PxlS",
        "outputId": "af404dbb-feb6-4028-c705-707503d74d89",
        "colab": {
          "base_uri": "https://localhost:8080/",
          "height": 912
        }
      },
      "source": [
        "#plot the histogram (histrogram is good for visulaizing distribution)\n",
        "plt.figure(figsize=(25,15))\n",
        "plt.hist(data=user_ratings,x=ratings_df.UserID,bins=500)\n",
        "plt.title('Users Rating Distribution')\n",
        "plt.xlabel('User Id')\n",
        "plt.ylabel('Number of ratings')\n",
        "plt.show()"
      ],
      "execution_count": null,
      "outputs": [
        {
          "output_type": "display_data",
          "data": {
            "image/png": "[encoded data removed]",
            "text/plain": [
              "<Figure size 1800x1080 with 1 Axes>"
            ]
          },
          "metadata": {
            "tags": []
          }
        }
      ]
    },
    {
      "cell_type": "code",
      "metadata": {
        "id": "b26yPehzPxlU",
        "outputId": "715170e2-bf74-4de0-a07d-060babb0239b",
        "colab": {
          "base_uri": "https://localhost:8080/",
          "height": 912
        }
      },
      "source": [
        "#plot the histogram (histrogram is good for visulaizing distribution)\n",
        "plt.figure(figsize=(25,15))\n",
        "plt.hist(x=ratings_df.UserID,bins=500)\n",
        "plt.title('Users Rating Distribution')\n",
        "plt.xlabel('User Id')\n",
        "plt.ylabel('Number of ratings')\n",
        "plt.show()"
      ],
      "execution_count": null,
      "outputs": [
        {
          "output_type": "display_data",
          "data": {
            "image/png": "[encoded data removed]",
            "text/plain": [
              "<Figure size 1800x1080 with 1 Axes>"
            ]
          },
          "metadata": {
            "tags": []
          }
        }
      ]
    },
    {
      "cell_type": "markdown",
      "metadata": {
        "id": "0kCGh6u_d1vl"
      },
      "source": [
        "# **3. Find and visualize the user rating of the movie “Toy Story”**\n"
      ]
    },
    {
      "cell_type": "code",
      "metadata": {
        "id": "3J0bcyF5PxlX",
        "outputId": "1c4b4cfc-1534-443e-956e-75d76c562fa3",
        "colab": {
          "base_uri": "https://localhost:8080/",
          "height": 204
        }
      },
      "source": [
        "#Find and visualize the user rating of the movie “Toy Story”\n",
        "#view first 5 records of movie dataset\n",
        "movie_df.head()\n",
        "#get movie id for Toy Story\n",
        "#Toystory_MovieId = movie_df[movie_df['Title']=='Toy Story (1995)']\n",
        "#print(Toystory_MovieId.MovieID)"
      ],
      "execution_count": null,
      "outputs": [
        {
          "output_type": "execute_result",
          "data": {
            "text/html": [
              "<div>\n",
              "<style scoped>\n",
              "    .dataframe tbody tr th:only-of-type {\n",
              "        vertical-align: middle;\n",
              "    }\n",
              "\n",
              "    .dataframe tbody tr th {\n",
              "        vertical-align: top;\n",
              "    }\n",
              "\n",
              "    .dataframe thead th {\n",
              "        text-align: right;\n",
              "    }\n",
              "</style>\n",
              "<table border=\"1\" class=\"dataframe\">\n",
              "  <thead>\n",
              "    <tr style=\"text-align: right;\">\n",
              "      <th></th>\n",
              "      <th>MovieID</th>\n",
              "      <th>Title</th>\n",
              "      <th>Genres</th>\n",
              "    </tr>\n",
              "  </thead>\n",
              "  <tbody>\n",
              "    <tr>\n",
              "      <th>0</th>\n",
              "      <td>1</td>\n",
              "      <td>Toy Story (1995)</td>\n",
              "      <td>Animation|Children's|Comedy</td>\n",
              "    </tr>\n",
              "    <tr>\n",
              "      <th>1</th>\n",
              "      <td>2</td>\n",
              "      <td>Jumanji (1995)</td>\n",
              "      <td>Adventure|Children's|Fantasy</td>\n",
              "    </tr>\n",
              "    <tr>\n",
              "      <th>2</th>\n",
              "      <td>3</td>\n",
              "      <td>Grumpier Old Men (1995)</td>\n",
              "      <td>Comedy|Romance</td>\n",
              "    </tr>\n",
              "    <tr>\n",
              "      <th>3</th>\n",
              "      <td>4</td>\n",
              "      <td>Waiting to Exhale (1995)</td>\n",
              "      <td>Comedy|Drama</td>\n",
              "    </tr>\n",
              "    <tr>\n",
              "      <th>4</th>\n",
              "      <td>5</td>\n",
              "      <td>Father of the Bride Part II (1995)</td>\n",
              "      <td>Comedy</td>\n",
              "    </tr>\n",
              "  </tbody>\n",
              "</table>\n",
              "</div>"
            ],
            "text/plain": [
              "   MovieID                               Title                        Genres\n",
              "0        1                    Toy Story (1995)   Animation|Children's|Comedy\n",
              "1        2                      Jumanji (1995)  Adventure|Children's|Fantasy\n",
              "2        3             Grumpier Old Men (1995)                Comedy|Romance\n",
              "3        4            Waiting to Exhale (1995)                  Comedy|Drama\n",
              "4        5  Father of the Bride Part II (1995)                        Comedy"
            ]
          },
          "metadata": {
            "tags": []
          },
          "execution_count": 17
        }
      ]
    },
    {
      "cell_type": "code",
      "metadata": {
        "id": "TKD4IIA6Pxla",
        "outputId": "f9313493-4919-416f-9a81-e69c8fd4a0de",
        "colab": {
          "base_uri": "https://localhost:8080/",
          "height": 669
        }
      },
      "source": [
        "#search and filter toy story movie id in rating data\n",
        "toystory_data = ratings_df[ratings_df.MovieID==1]\n",
        "toystory_data.head(20)"
      ],
      "execution_count": null,
      "outputs": [
        {
          "output_type": "execute_result",
          "data": {
            "text/html": [
              "<div>\n",
              "<style scoped>\n",
              "    .dataframe tbody tr th:only-of-type {\n",
              "        vertical-align: middle;\n",
              "    }\n",
              "\n",
              "    .dataframe tbody tr th {\n",
              "        vertical-align: top;\n",
              "    }\n",
              "\n",
              "    .dataframe thead th {\n",
              "        text-align: right;\n",
              "    }\n",
              "</style>\n",
              "<table border=\"1\" class=\"dataframe\">\n",
              "  <thead>\n",
              "    <tr style=\"text-align: right;\">\n",
              "      <th></th>\n",
              "      <th>UserID</th>\n",
              "      <th>MovieID</th>\n",
              "      <th>Rating</th>\n",
              "      <th>Timestamp</th>\n",
              "    </tr>\n",
              "  </thead>\n",
              "  <tbody>\n",
              "    <tr>\n",
              "      <th>40</th>\n",
              "      <td>1</td>\n",
              "      <td>1</td>\n",
              "      <td>5</td>\n",
              "      <td>978824268</td>\n",
              "    </tr>\n",
              "    <tr>\n",
              "      <th>469</th>\n",
              "      <td>6</td>\n",
              "      <td>1</td>\n",
              "      <td>4</td>\n",
              "      <td>978237008</td>\n",
              "    </tr>\n",
              "    <tr>\n",
              "      <th>581</th>\n",
              "      <td>8</td>\n",
              "      <td>1</td>\n",
              "      <td>4</td>\n",
              "      <td>978233496</td>\n",
              "    </tr>\n",
              "    <tr>\n",
              "      <th>711</th>\n",
              "      <td>9</td>\n",
              "      <td>1</td>\n",
              "      <td>5</td>\n",
              "      <td>978225952</td>\n",
              "    </tr>\n",
              "    <tr>\n",
              "      <th>837</th>\n",
              "      <td>10</td>\n",
              "      <td>1</td>\n",
              "      <td>5</td>\n",
              "      <td>978226474</td>\n",
              "    </tr>\n",
              "    <tr>\n",
              "      <th>1966</th>\n",
              "      <td>18</td>\n",
              "      <td>1</td>\n",
              "      <td>4</td>\n",
              "      <td>978154768</td>\n",
              "    </tr>\n",
              "    <tr>\n",
              "      <th>2276</th>\n",
              "      <td>19</td>\n",
              "      <td>1</td>\n",
              "      <td>5</td>\n",
              "      <td>978555994</td>\n",
              "    </tr>\n",
              "    <tr>\n",
              "      <th>2530</th>\n",
              "      <td>21</td>\n",
              "      <td>1</td>\n",
              "      <td>3</td>\n",
              "      <td>978139347</td>\n",
              "    </tr>\n",
              "    <tr>\n",
              "      <th>2870</th>\n",
              "      <td>23</td>\n",
              "      <td>1</td>\n",
              "      <td>4</td>\n",
              "      <td>978463614</td>\n",
              "    </tr>\n",
              "    <tr>\n",
              "      <th>3405</th>\n",
              "      <td>26</td>\n",
              "      <td>1</td>\n",
              "      <td>3</td>\n",
              "      <td>978130703</td>\n",
              "    </tr>\n",
              "    <tr>\n",
              "      <th>3847</th>\n",
              "      <td>28</td>\n",
              "      <td>1</td>\n",
              "      <td>3</td>\n",
              "      <td>978985309</td>\n",
              "    </tr>\n",
              "    <tr>\n",
              "      <th>4669</th>\n",
              "      <td>34</td>\n",
              "      <td>1</td>\n",
              "      <td>5</td>\n",
              "      <td>978102970</td>\n",
              "    </tr>\n",
              "    <tr>\n",
              "      <th>5050</th>\n",
              "      <td>36</td>\n",
              "      <td>1</td>\n",
              "      <td>5</td>\n",
              "      <td>978061285</td>\n",
              "    </tr>\n",
              "    <tr>\n",
              "      <th>5432</th>\n",
              "      <td>38</td>\n",
              "      <td>1</td>\n",
              "      <td>5</td>\n",
              "      <td>978046225</td>\n",
              "    </tr>\n",
              "    <tr>\n",
              "      <th>5973</th>\n",
              "      <td>44</td>\n",
              "      <td>1</td>\n",
              "      <td>5</td>\n",
              "      <td>978019369</td>\n",
              "    </tr>\n",
              "    <tr>\n",
              "      <th>6182</th>\n",
              "      <td>45</td>\n",
              "      <td>1</td>\n",
              "      <td>4</td>\n",
              "      <td>977990044</td>\n",
              "    </tr>\n",
              "    <tr>\n",
              "      <th>6544</th>\n",
              "      <td>48</td>\n",
              "      <td>1</td>\n",
              "      <td>4</td>\n",
              "      <td>977975909</td>\n",
              "    </tr>\n",
              "    <tr>\n",
              "      <th>7115</th>\n",
              "      <td>49</td>\n",
              "      <td>1</td>\n",
              "      <td>5</td>\n",
              "      <td>977972501</td>\n",
              "    </tr>\n",
              "    <tr>\n",
              "      <th>7263</th>\n",
              "      <td>51</td>\n",
              "      <td>1</td>\n",
              "      <td>5</td>\n",
              "      <td>977947828</td>\n",
              "    </tr>\n",
              "    <tr>\n",
              "      <th>8131</th>\n",
              "      <td>56</td>\n",
              "      <td>1</td>\n",
              "      <td>5</td>\n",
              "      <td>977938855</td>\n",
              "    </tr>\n",
              "  </tbody>\n",
              "</table>\n",
              "</div>"
            ],
            "text/plain": [
              "      UserID  MovieID  Rating  Timestamp\n",
              "40         1        1       5  978824268\n",
              "469        6        1       4  978237008\n",
              "581        8        1       4  978233496\n",
              "711        9        1       5  978225952\n",
              "837       10        1       5  978226474\n",
              "1966      18        1       4  978154768\n",
              "2276      19        1       5  978555994\n",
              "2530      21        1       3  978139347\n",
              "2870      23        1       4  978463614\n",
              "3405      26        1       3  978130703\n",
              "3847      28        1       3  978985309\n",
              "4669      34        1       5  978102970\n",
              "5050      36        1       5  978061285\n",
              "5432      38        1       5  978046225\n",
              "5973      44        1       5  978019369\n",
              "6182      45        1       4  977990044\n",
              "6544      48        1       4  977975909\n",
              "7115      49        1       5  977972501\n",
              "7263      51        1       5  977947828\n",
              "8131      56        1       5  977938855"
            ]
          },
          "metadata": {
            "tags": []
          },
          "execution_count": 18
        }
      ]
    },
    {
      "cell_type": "code",
      "metadata": {
        "id": "uT0yD1xuqPmo",
        "outputId": "774953a7-f524-464f-9152-4ebc134fff65",
        "colab": {
          "base_uri": "https://localhost:8080/",
          "height": 297
        }
      },
      "source": [
        "#describe\n",
        "toystory_data.describe()"
      ],
      "execution_count": null,
      "outputs": [
        {
          "output_type": "execute_result",
          "data": {
            "text/html": [
              "<div>\n",
              "<style scoped>\n",
              "    .dataframe tbody tr th:only-of-type {\n",
              "        vertical-align: middle;\n",
              "    }\n",
              "\n",
              "    .dataframe tbody tr th {\n",
              "        vertical-align: top;\n",
              "    }\n",
              "\n",
              "    .dataframe thead th {\n",
              "        text-align: right;\n",
              "    }\n",
              "</style>\n",
              "<table border=\"1\" class=\"dataframe\">\n",
              "  <thead>\n",
              "    <tr style=\"text-align: right;\">\n",
              "      <th></th>\n",
              "      <th>UserID</th>\n",
              "      <th>MovieID</th>\n",
              "      <th>Rating</th>\n",
              "    </tr>\n",
              "  </thead>\n",
              "  <tbody>\n",
              "    <tr>\n",
              "      <th>count</th>\n",
              "      <td>2077.000000</td>\n",
              "      <td>2077.0</td>\n",
              "      <td>2077.000000</td>\n",
              "    </tr>\n",
              "    <tr>\n",
              "      <th>mean</th>\n",
              "      <td>3053.819933</td>\n",
              "      <td>1.0</td>\n",
              "      <td>4.146846</td>\n",
              "    </tr>\n",
              "    <tr>\n",
              "      <th>std</th>\n",
              "      <td>1750.606746</td>\n",
              "      <td>0.0</td>\n",
              "      <td>0.852349</td>\n",
              "    </tr>\n",
              "    <tr>\n",
              "      <th>min</th>\n",
              "      <td>1.000000</td>\n",
              "      <td>1.0</td>\n",
              "      <td>1.000000</td>\n",
              "    </tr>\n",
              "    <tr>\n",
              "      <th>25%</th>\n",
              "      <td>1532.000000</td>\n",
              "      <td>1.0</td>\n",
              "      <td>4.000000</td>\n",
              "    </tr>\n",
              "    <tr>\n",
              "      <th>50%</th>\n",
              "      <td>3146.000000</td>\n",
              "      <td>1.0</td>\n",
              "      <td>4.000000</td>\n",
              "    </tr>\n",
              "    <tr>\n",
              "      <th>75%</th>\n",
              "      <td>4571.000000</td>\n",
              "      <td>1.0</td>\n",
              "      <td>5.000000</td>\n",
              "    </tr>\n",
              "    <tr>\n",
              "      <th>max</th>\n",
              "      <td>6040.000000</td>\n",
              "      <td>1.0</td>\n",
              "      <td>5.000000</td>\n",
              "    </tr>\n",
              "  </tbody>\n",
              "</table>\n",
              "</div>"
            ],
            "text/plain": [
              "            UserID  MovieID       Rating\n",
              "count  2077.000000   2077.0  2077.000000\n",
              "mean   3053.819933      1.0     4.146846\n",
              "std    1750.606746      0.0     0.852349\n",
              "min       1.000000      1.0     1.000000\n",
              "25%    1532.000000      1.0     4.000000\n",
              "50%    3146.000000      1.0     4.000000\n",
              "75%    4571.000000      1.0     5.000000\n",
              "max    6040.000000      1.0     5.000000"
            ]
          },
          "metadata": {
            "tags": []
          },
          "execution_count": 19
        }
      ]
    },
    {
      "cell_type": "code",
      "metadata": {
        "id": "fRtfHIJWPxld",
        "outputId": "8234fb5a-8cb8-436a-beb3-72671a732f07",
        "colab": {
          "base_uri": "https://localhost:8080/",
          "height": 136
        }
      },
      "source": [
        "toystory_data.groupby('Rating').size()"
      ],
      "execution_count": null,
      "outputs": [
        {
          "output_type": "execute_result",
          "data": {
            "text/plain": [
              "Rating\n",
              "1     16\n",
              "2     61\n",
              "3    345\n",
              "4    835\n",
              "5    820\n",
              "dtype: int64"
            ]
          },
          "metadata": {
            "tags": []
          },
          "execution_count": 20
        }
      ]
    },
    {
      "cell_type": "code",
      "metadata": {
        "id": "9u8JVUW-Pxlg",
        "outputId": "daaf36ef-29ad-4e47-cad5-134bde6a3c86",
        "colab": {
          "base_uri": "https://localhost:8080/",
          "height": 349
        }
      },
      "source": [
        "#plot Toy Story ratings\n",
        "plt.figure(figsize=(15,5))\n",
        "plt.hist(x=toystory_data['Rating'])\n",
        "plt.title('Toy Story Ratings')\n",
        "plt.xlabel('Ratings')\n",
        "plt.ylabel('Number of users')\n",
        "plt.show()"
      ],
      "execution_count": null,
      "outputs": [
        {
          "output_type": "display_data",
          "data": {
            "image/png": "[encoded data removed]",
            "text/plain": [
              "<Figure size 1080x360 with 1 Axes>"
            ]
          },
          "metadata": {
            "tags": []
          }
        }
      ]
    },
    {
      "cell_type": "markdown",
      "metadata": {
        "id": "YfTFc4DV03dD"
      },
      "source": [
        "## ***Finding: Toy Story got 4.0 ratings most followed by 5.0***"
      ]
    },
    {
      "cell_type": "markdown",
      "metadata": {
        "id": "RrS0771RePFB"
      },
      "source": [
        "# **4. Find and visualize the viewership of the movie “Toy Story” by age group**\n"
      ]
    },
    {
      "cell_type": "code",
      "metadata": {
        "id": "2a8fAfE1qkNM"
      },
      "source": [
        "#Viewership by age for Toy Story"
      ],
      "execution_count": null,
      "outputs": []
    },
    {
      "cell_type": "code",
      "metadata": {
        "id": "KVzoYDb_ql-_"
      },
      "source": [
        "viewership = pd.merge(ratings_df, users_df, how='left', left_on=['UserID'], right_on=['UserID'])"
      ],
      "execution_count": null,
      "outputs": []
    },
    {
      "cell_type": "code",
      "metadata": {
        "id": "GccIWpljqmfy",
        "outputId": "7b461648-030b-4cad-aac5-d715b417acb0",
        "colab": {
          "base_uri": "https://localhost:8080/",
          "height": 34
        }
      },
      "source": [
        "#viewership shape\n",
        "viewership.shape"
      ],
      "execution_count": null,
      "outputs": [
        {
          "output_type": "execute_result",
          "data": {
            "text/plain": [
              "(1000209, 8)"
            ]
          },
          "metadata": {
            "tags": []
          },
          "execution_count": 24
        }
      ]
    },
    {
      "cell_type": "code",
      "metadata": {
        "id": "VdEO4aL9qmyc",
        "outputId": "6a07d9d2-19c4-4ab0-dc5b-ce5dd59b0e00",
        "colab": {
          "base_uri": "https://localhost:8080/",
          "height": 34
        }
      },
      "source": [
        "ratings_df.shape"
      ],
      "execution_count": null,
      "outputs": [
        {
          "output_type": "execute_result",
          "data": {
            "text/plain": [
              "(1000209, 4)"
            ]
          },
          "metadata": {
            "tags": []
          },
          "execution_count": 25
        }
      ]
    },
    {
      "cell_type": "code",
      "metadata": {
        "id": "cA7LrVAmqm11",
        "outputId": "e94815b3-644c-48d4-9b21-addd240a9663",
        "colab": {
          "base_uri": "https://localhost:8080/",
          "height": 204
        }
      },
      "source": [
        "viewership.head()"
      ],
      "execution_count": null,
      "outputs": [
        {
          "output_type": "execute_result",
          "data": {
            "text/html": [
              "<div>\n",
              "<style scoped>\n",
              "    .dataframe tbody tr th:only-of-type {\n",
              "        vertical-align: middle;\n",
              "    }\n",
              "\n",
              "    .dataframe tbody tr th {\n",
              "        vertical-align: top;\n",
              "    }\n",
              "\n",
              "    .dataframe thead th {\n",
              "        text-align: right;\n",
              "    }\n",
              "</style>\n",
              "<table border=\"1\" class=\"dataframe\">\n",
              "  <thead>\n",
              "    <tr style=\"text-align: right;\">\n",
              "      <th></th>\n",
              "      <th>UserID</th>\n",
              "      <th>MovieID</th>\n",
              "      <th>Rating</th>\n",
              "      <th>Timestamp</th>\n",
              "      <th>Gender</th>\n",
              "      <th>Age</th>\n",
              "      <th>Occupation</th>\n",
              "      <th>Zip-code</th>\n",
              "    </tr>\n",
              "  </thead>\n",
              "  <tbody>\n",
              "    <tr>\n",
              "      <th>0</th>\n",
              "      <td>1</td>\n",
              "      <td>1193</td>\n",
              "      <td>5</td>\n",
              "      <td>978300760</td>\n",
              "      <td>F</td>\n",
              "      <td>1</td>\n",
              "      <td>10</td>\n",
              "      <td>48067</td>\n",
              "    </tr>\n",
              "    <tr>\n",
              "      <th>1</th>\n",
              "      <td>1</td>\n",
              "      <td>661</td>\n",
              "      <td>3</td>\n",
              "      <td>978302109</td>\n",
              "      <td>F</td>\n",
              "      <td>1</td>\n",
              "      <td>10</td>\n",
              "      <td>48067</td>\n",
              "    </tr>\n",
              "    <tr>\n",
              "      <th>2</th>\n",
              "      <td>1</td>\n",
              "      <td>914</td>\n",
              "      <td>3</td>\n",
              "      <td>978301968</td>\n",
              "      <td>F</td>\n",
              "      <td>1</td>\n",
              "      <td>10</td>\n",
              "      <td>48067</td>\n",
              "    </tr>\n",
              "    <tr>\n",
              "      <th>3</th>\n",
              "      <td>1</td>\n",
              "      <td>3408</td>\n",
              "      <td>4</td>\n",
              "      <td>978300275</td>\n",
              "      <td>F</td>\n",
              "      <td>1</td>\n",
              "      <td>10</td>\n",
              "      <td>48067</td>\n",
              "    </tr>\n",
              "    <tr>\n",
              "      <th>4</th>\n",
              "      <td>1</td>\n",
              "      <td>2355</td>\n",
              "      <td>5</td>\n",
              "      <td>978824291</td>\n",
              "      <td>F</td>\n",
              "      <td>1</td>\n",
              "      <td>10</td>\n",
              "      <td>48067</td>\n",
              "    </tr>\n",
              "  </tbody>\n",
              "</table>\n",
              "</div>"
            ],
            "text/plain": [
              "   UserID  MovieID  Rating  Timestamp Gender  Age  Occupation Zip-code\n",
              "0       1     1193       5  978300760      F    1          10    48067\n",
              "1       1      661       3  978302109      F    1          10    48067\n",
              "2       1      914       3  978301968      F    1          10    48067\n",
              "3       1     3408       4  978300275      F    1          10    48067\n",
              "4       1     2355       5  978824291      F    1          10    48067"
            ]
          },
          "metadata": {
            "tags": []
          },
          "execution_count": 26
        }
      ]
    },
    {
      "cell_type": "code",
      "metadata": {
        "id": "X4jjx7Qhqm4y",
        "outputId": "d5831804-47c7-4e09-8dfd-b6609e55aeff",
        "colab": {
          "base_uri": "https://localhost:8080/",
          "height": 34
        }
      },
      "source": [
        "#Select Toy Story data\n",
        "viewership_of_toy_story = viewership[viewership['MovieID'] == 1]\n",
        "viewership_of_toy_story.shape"
      ],
      "execution_count": null,
      "outputs": [
        {
          "output_type": "execute_result",
          "data": {
            "text/plain": [
              "(2077, 8)"
            ]
          },
          "metadata": {
            "tags": []
          },
          "execution_count": 27
        }
      ]
    },
    {
      "cell_type": "code",
      "metadata": {
        "id": "nhedJzZFqm7t",
        "outputId": "d3676819-1724-44e0-8793-4b605fdd1980",
        "colab": {
          "base_uri": "https://localhost:8080/",
          "height": 204
        }
      },
      "source": [
        "# view first 5 records\n",
        "viewership_of_toy_story.head()"
      ],
      "execution_count": null,
      "outputs": [
        {
          "output_type": "execute_result",
          "data": {
            "text/html": [
              "<div>\n",
              "<style scoped>\n",
              "    .dataframe tbody tr th:only-of-type {\n",
              "        vertical-align: middle;\n",
              "    }\n",
              "\n",
              "    .dataframe tbody tr th {\n",
              "        vertical-align: top;\n",
              "    }\n",
              "\n",
              "    .dataframe thead th {\n",
              "        text-align: right;\n",
              "    }\n",
              "</style>\n",
              "<table border=\"1\" class=\"dataframe\">\n",
              "  <thead>\n",
              "    <tr style=\"text-align: right;\">\n",
              "      <th></th>\n",
              "      <th>UserID</th>\n",
              "      <th>MovieID</th>\n",
              "      <th>Rating</th>\n",
              "      <th>Timestamp</th>\n",
              "      <th>Gender</th>\n",
              "      <th>Age</th>\n",
              "      <th>Occupation</th>\n",
              "      <th>Zip-code</th>\n",
              "    </tr>\n",
              "  </thead>\n",
              "  <tbody>\n",
              "    <tr>\n",
              "      <th>40</th>\n",
              "      <td>1</td>\n",
              "      <td>1</td>\n",
              "      <td>5</td>\n",
              "      <td>978824268</td>\n",
              "      <td>F</td>\n",
              "      <td>1</td>\n",
              "      <td>10</td>\n",
              "      <td>48067</td>\n",
              "    </tr>\n",
              "    <tr>\n",
              "      <th>469</th>\n",
              "      <td>6</td>\n",
              "      <td>1</td>\n",
              "      <td>4</td>\n",
              "      <td>978237008</td>\n",
              "      <td>F</td>\n",
              "      <td>50</td>\n",
              "      <td>9</td>\n",
              "      <td>55117</td>\n",
              "    </tr>\n",
              "    <tr>\n",
              "      <th>581</th>\n",
              "      <td>8</td>\n",
              "      <td>1</td>\n",
              "      <td>4</td>\n",
              "      <td>978233496</td>\n",
              "      <td>M</td>\n",
              "      <td>25</td>\n",
              "      <td>12</td>\n",
              "      <td>11413</td>\n",
              "    </tr>\n",
              "    <tr>\n",
              "      <th>711</th>\n",
              "      <td>9</td>\n",
              "      <td>1</td>\n",
              "      <td>5</td>\n",
              "      <td>978225952</td>\n",
              "      <td>M</td>\n",
              "      <td>25</td>\n",
              "      <td>17</td>\n",
              "      <td>61614</td>\n",
              "    </tr>\n",
              "    <tr>\n",
              "      <th>837</th>\n",
              "      <td>10</td>\n",
              "      <td>1</td>\n",
              "      <td>5</td>\n",
              "      <td>978226474</td>\n",
              "      <td>F</td>\n",
              "      <td>35</td>\n",
              "      <td>1</td>\n",
              "      <td>95370</td>\n",
              "    </tr>\n",
              "  </tbody>\n",
              "</table>\n",
              "</div>"
            ],
            "text/plain": [
              "     UserID  MovieID  Rating  Timestamp Gender  Age  Occupation Zip-code\n",
              "40        1        1       5  978824268      F    1          10    48067\n",
              "469       6        1       4  978237008      F   50           9    55117\n",
              "581       8        1       4  978233496      M   25          12    11413\n",
              "711       9        1       5  978225952      M   25          17    61614\n",
              "837      10        1       5  978226474      F   35           1    95370"
            ]
          },
          "metadata": {
            "tags": []
          },
          "execution_count": 28
        }
      ]
    },
    {
      "cell_type": "code",
      "metadata": {
        "id": "un1CWEKGqm-g",
        "outputId": "4644964f-be13-42fb-9721-a929202a1291",
        "colab": {
          "base_uri": "https://localhost:8080/",
          "height": 170
        }
      },
      "source": [
        "# group on age\n",
        "viewership_of_toy_story.groupby('Age').size()"
      ],
      "execution_count": null,
      "outputs": [
        {
          "output_type": "execute_result",
          "data": {
            "text/plain": [
              "Age\n",
              "1     112\n",
              "18    448\n",
              "25    790\n",
              "35    423\n",
              "45    143\n",
              "50    108\n",
              "56     53\n",
              "dtype: int64"
            ]
          },
          "metadata": {
            "tags": []
          },
          "execution_count": 29
        }
      ]
    },
    {
      "cell_type": "code",
      "metadata": {
        "id": "xgxs6l-CqnBd",
        "outputId": "7c3a89a0-5289-4159-9311-08aa07a57ee3",
        "colab": {
          "base_uri": "https://localhost:8080/",
          "height": 349
        }
      },
      "source": [
        "#plot the graph\n",
        "plt.figure(figsize=(15,5))\n",
        "plt.hist(x=viewership_of_toy_story['Age'], data=viewership_of_toy_story, bins=30)\n",
        "plt.xlabel(\"Age\")\n",
        "plt.ylabel(\"No of viewers\")\n",
        "plt.title(\"Viewership of Toy Story Movie\")\n",
        "plt.show()"
      ],
      "execution_count": null,
      "outputs": [
        {
          "output_type": "display_data",
          "data": {
            "image/png": "[encoded data removed]",
            "text/plain": [
              "<Figure size 1080x360 with 1 Axes>"
            ]
          },
          "metadata": {
            "tags": []
          }
        }
      ]
    },
    {
      "cell_type": "markdown",
      "metadata": {
        "id": "PcTPLAkt1Tpz"
      },
      "source": [
        "## ***Finding: Toy Story is most popular and watched by age group 25***"
      ]
    },
    {
      "cell_type": "markdown",
      "metadata": {
        "id": "aUm8iVZWedNa"
      },
      "source": [
        "# **5. Find and visualize the top 25 movies by viewership rating**\n"
      ]
    },
    {
      "cell_type": "code",
      "metadata": {
        "id": "CUTgX16NqnD_",
        "outputId": "9d8dfe2a-8415-48d1-a4fb-c10cf50995ed",
        "colab": {
          "base_uri": "https://localhost:8080/",
          "height": 824
        }
      },
      "source": [
        "#Top 25 movies by rating\n",
        "movie_rating = ratings_df.groupby(['MovieID'], as_index=False)\n",
        "movie_rating.head()\n",
        "average_movie_ratings = movie_rating.agg({'Rating':'mean'})\n",
        "average_movie_ratings.head()\n",
        "top_25_movies = average_movie_ratings.sort_values('Rating', ascending=False).head(25)\n",
        "top_25_movies"
      ],
      "execution_count": null,
      "outputs": [
        {
          "output_type": "execute_result",
          "data": {
            "text/html": [
              "<div>\n",
              "<style scoped>\n",
              "    .dataframe tbody tr th:only-of-type {\n",
              "        vertical-align: middle;\n",
              "    }\n",
              "\n",
              "    .dataframe tbody tr th {\n",
              "        vertical-align: top;\n",
              "    }\n",
              "\n",
              "    .dataframe thead th {\n",
              "        text-align: right;\n",
              "    }\n",
              "</style>\n",
              "<table border=\"1\" class=\"dataframe\">\n",
              "  <thead>\n",
              "    <tr style=\"text-align: right;\">\n",
              "      <th></th>\n",
              "      <th>MovieID</th>\n",
              "      <th>Rating</th>\n",
              "    </tr>\n",
              "  </thead>\n",
              "  <tbody>\n",
              "    <tr>\n",
              "      <th>926</th>\n",
              "      <td>989</td>\n",
              "      <td>5.000000</td>\n",
              "    </tr>\n",
              "    <tr>\n",
              "      <th>3635</th>\n",
              "      <td>3881</td>\n",
              "      <td>5.000000</td>\n",
              "    </tr>\n",
              "    <tr>\n",
              "      <th>1652</th>\n",
              "      <td>1830</td>\n",
              "      <td>5.000000</td>\n",
              "    </tr>\n",
              "    <tr>\n",
              "      <th>3152</th>\n",
              "      <td>3382</td>\n",
              "      <td>5.000000</td>\n",
              "    </tr>\n",
              "    <tr>\n",
              "      <th>744</th>\n",
              "      <td>787</td>\n",
              "      <td>5.000000</td>\n",
              "    </tr>\n",
              "    <tr>\n",
              "      <th>3054</th>\n",
              "      <td>3280</td>\n",
              "      <td>5.000000</td>\n",
              "    </tr>\n",
              "    <tr>\n",
              "      <th>3367</th>\n",
              "      <td>3607</td>\n",
              "      <td>5.000000</td>\n",
              "    </tr>\n",
              "    <tr>\n",
              "      <th>3010</th>\n",
              "      <td>3233</td>\n",
              "      <td>5.000000</td>\n",
              "    </tr>\n",
              "    <tr>\n",
              "      <th>2955</th>\n",
              "      <td>3172</td>\n",
              "      <td>5.000000</td>\n",
              "    </tr>\n",
              "    <tr>\n",
              "      <th>3414</th>\n",
              "      <td>3656</td>\n",
              "      <td>5.000000</td>\n",
              "    </tr>\n",
              "    <tr>\n",
              "      <th>3021</th>\n",
              "      <td>3245</td>\n",
              "      <td>4.800000</td>\n",
              "    </tr>\n",
              "    <tr>\n",
              "      <th>51</th>\n",
              "      <td>53</td>\n",
              "      <td>4.750000</td>\n",
              "    </tr>\n",
              "    <tr>\n",
              "      <th>2309</th>\n",
              "      <td>2503</td>\n",
              "      <td>4.666667</td>\n",
              "    </tr>\n",
              "    <tr>\n",
              "      <th>2698</th>\n",
              "      <td>2905</td>\n",
              "      <td>4.608696</td>\n",
              "    </tr>\n",
              "    <tr>\n",
              "      <th>1839</th>\n",
              "      <td>2019</td>\n",
              "      <td>4.560510</td>\n",
              "    </tr>\n",
              "    <tr>\n",
              "      <th>309</th>\n",
              "      <td>318</td>\n",
              "      <td>4.554558</td>\n",
              "    </tr>\n",
              "    <tr>\n",
              "      <th>802</th>\n",
              "      <td>858</td>\n",
              "      <td>4.524966</td>\n",
              "    </tr>\n",
              "    <tr>\n",
              "      <th>708</th>\n",
              "      <td>745</td>\n",
              "      <td>4.520548</td>\n",
              "    </tr>\n",
              "    <tr>\n",
              "      <th>49</th>\n",
              "      <td>50</td>\n",
              "      <td>4.517106</td>\n",
              "    </tr>\n",
              "    <tr>\n",
              "      <th>513</th>\n",
              "      <td>527</td>\n",
              "      <td>4.510417</td>\n",
              "    </tr>\n",
              "    <tr>\n",
              "      <th>1066</th>\n",
              "      <td>1148</td>\n",
              "      <td>4.507937</td>\n",
              "    </tr>\n",
              "    <tr>\n",
              "      <th>2117</th>\n",
              "      <td>2309</td>\n",
              "      <td>4.500000</td>\n",
              "    </tr>\n",
              "    <tr>\n",
              "      <th>1626</th>\n",
              "      <td>1795</td>\n",
              "      <td>4.500000</td>\n",
              "    </tr>\n",
              "    <tr>\n",
              "      <th>2287</th>\n",
              "      <td>2480</td>\n",
              "      <td>4.500000</td>\n",
              "    </tr>\n",
              "    <tr>\n",
              "      <th>425</th>\n",
              "      <td>439</td>\n",
              "      <td>4.500000</td>\n",
              "    </tr>\n",
              "  </tbody>\n",
              "</table>\n",
              "</div>"
            ],
            "text/plain": [
              "      MovieID    Rating\n",
              "926       989  5.000000\n",
              "3635     3881  5.000000\n",
              "1652     1830  5.000000\n",
              "3152     3382  5.000000\n",
              "744       787  5.000000\n",
              "3054     3280  5.000000\n",
              "3367     3607  5.000000\n",
              "3010     3233  5.000000\n",
              "2955     3172  5.000000\n",
              "3414     3656  5.000000\n",
              "3021     3245  4.800000\n",
              "51         53  4.750000\n",
              "2309     2503  4.666667\n",
              "2698     2905  4.608696\n",
              "1839     2019  4.560510\n",
              "309       318  4.554558\n",
              "802       858  4.524966\n",
              "708       745  4.520548\n",
              "49         50  4.517106\n",
              "513       527  4.510417\n",
              "1066     1148  4.507937\n",
              "2117     2309  4.500000\n",
              "1626     1795  4.500000\n",
              "2287     2480  4.500000\n",
              "425       439  4.500000"
            ]
          },
          "metadata": {
            "tags": []
          },
          "execution_count": 31
        }
      ]
    },
    {
      "cell_type": "code",
      "metadata": {
        "id": "bE1pgmLAqnGm",
        "outputId": "69cafcdc-0bb9-45ba-aad6-f54813e702aa",
        "colab": {
          "base_uri": "https://localhost:8080/",
          "height": 824
        }
      },
      "source": [
        "#top 25 movies by viewership data\n",
        "viewership_top25 = pd.merge(top_25_movies, movie_df, how='left', left_on=['MovieID'], right_on=['MovieID'])\n",
        "viewership_top25"
      ],
      "execution_count": null,
      "outputs": [
        {
          "output_type": "execute_result",
          "data": {
            "text/html": [
              "<div>\n",
              "<style scoped>\n",
              "    .dataframe tbody tr th:only-of-type {\n",
              "        vertical-align: middle;\n",
              "    }\n",
              "\n",
              "    .dataframe tbody tr th {\n",
              "        vertical-align: top;\n",
              "    }\n",
              "\n",
              "    .dataframe thead th {\n",
              "        text-align: right;\n",
              "    }\n",
              "</style>\n",
              "<table border=\"1\" class=\"dataframe\">\n",
              "  <thead>\n",
              "    <tr style=\"text-align: right;\">\n",
              "      <th></th>\n",
              "      <th>MovieID</th>\n",
              "      <th>Rating</th>\n",
              "      <th>Title</th>\n",
              "      <th>Genres</th>\n",
              "    </tr>\n",
              "  </thead>\n",
              "  <tbody>\n",
              "    <tr>\n",
              "      <th>0</th>\n",
              "      <td>989</td>\n",
              "      <td>5.000000</td>\n",
              "      <td>Schlafes Bruder (Brother of Sleep) (1995)</td>\n",
              "      <td>Drama</td>\n",
              "    </tr>\n",
              "    <tr>\n",
              "      <th>1</th>\n",
              "      <td>3881</td>\n",
              "      <td>5.000000</td>\n",
              "      <td>Bittersweet Motel (2000)</td>\n",
              "      <td>Documentary</td>\n",
              "    </tr>\n",
              "    <tr>\n",
              "      <th>2</th>\n",
              "      <td>1830</td>\n",
              "      <td>5.000000</td>\n",
              "      <td>Follow the Bitch (1998)</td>\n",
              "      <td>Comedy</td>\n",
              "    </tr>\n",
              "    <tr>\n",
              "      <th>3</th>\n",
              "      <td>3382</td>\n",
              "      <td>5.000000</td>\n",
              "      <td>Song of Freedom (1936)</td>\n",
              "      <td>Drama</td>\n",
              "    </tr>\n",
              "    <tr>\n",
              "      <th>4</th>\n",
              "      <td>787</td>\n",
              "      <td>5.000000</td>\n",
              "      <td>Gate of Heavenly Peace, The (1995)</td>\n",
              "      <td>Documentary</td>\n",
              "    </tr>\n",
              "    <tr>\n",
              "      <th>5</th>\n",
              "      <td>3280</td>\n",
              "      <td>5.000000</td>\n",
              "      <td>Baby, The (1973)</td>\n",
              "      <td>Horror</td>\n",
              "    </tr>\n",
              "    <tr>\n",
              "      <th>6</th>\n",
              "      <td>3607</td>\n",
              "      <td>5.000000</td>\n",
              "      <td>One Little Indian (1973)</td>\n",
              "      <td>Comedy|Drama|Western</td>\n",
              "    </tr>\n",
              "    <tr>\n",
              "      <th>7</th>\n",
              "      <td>3233</td>\n",
              "      <td>5.000000</td>\n",
              "      <td>Smashing Time (1967)</td>\n",
              "      <td>Comedy</td>\n",
              "    </tr>\n",
              "    <tr>\n",
              "      <th>8</th>\n",
              "      <td>3172</td>\n",
              "      <td>5.000000</td>\n",
              "      <td>Ulysses (Ulisse) (1954)</td>\n",
              "      <td>Adventure</td>\n",
              "    </tr>\n",
              "    <tr>\n",
              "      <th>9</th>\n",
              "      <td>3656</td>\n",
              "      <td>5.000000</td>\n",
              "      <td>Lured (1947)</td>\n",
              "      <td>Crime</td>\n",
              "    </tr>\n",
              "    <tr>\n",
              "      <th>10</th>\n",
              "      <td>3245</td>\n",
              "      <td>4.800000</td>\n",
              "      <td>I Am Cuba (Soy Cuba/Ya Kuba) (1964)</td>\n",
              "      <td>Drama</td>\n",
              "    </tr>\n",
              "    <tr>\n",
              "      <th>11</th>\n",
              "      <td>53</td>\n",
              "      <td>4.750000</td>\n",
              "      <td>Lamerica (1994)</td>\n",
              "      <td>Drama</td>\n",
              "    </tr>\n",
              "    <tr>\n",
              "      <th>12</th>\n",
              "      <td>2503</td>\n",
              "      <td>4.666667</td>\n",
              "      <td>Apple, The (Sib) (1998)</td>\n",
              "      <td>Drama</td>\n",
              "    </tr>\n",
              "    <tr>\n",
              "      <th>13</th>\n",
              "      <td>2905</td>\n",
              "      <td>4.608696</td>\n",
              "      <td>Sanjuro (1962)</td>\n",
              "      <td>Action|Adventure</td>\n",
              "    </tr>\n",
              "    <tr>\n",
              "      <th>14</th>\n",
              "      <td>2019</td>\n",
              "      <td>4.560510</td>\n",
              "      <td>Seven Samurai (The Magnificent Seven) (Shichin...</td>\n",
              "      <td>Action|Drama</td>\n",
              "    </tr>\n",
              "    <tr>\n",
              "      <th>15</th>\n",
              "      <td>318</td>\n",
              "      <td>4.554558</td>\n",
              "      <td>Shawshank Redemption, The (1994)</td>\n",
              "      <td>Drama</td>\n",
              "    </tr>\n",
              "    <tr>\n",
              "      <th>16</th>\n",
              "      <td>858</td>\n",
              "      <td>4.524966</td>\n",
              "      <td>Godfather, The (1972)</td>\n",
              "      <td>Action|Crime|Drama</td>\n",
              "    </tr>\n",
              "    <tr>\n",
              "      <th>17</th>\n",
              "      <td>745</td>\n",
              "      <td>4.520548</td>\n",
              "      <td>Close Shave, A (1995)</td>\n",
              "      <td>Animation|Comedy|Thriller</td>\n",
              "    </tr>\n",
              "    <tr>\n",
              "      <th>18</th>\n",
              "      <td>50</td>\n",
              "      <td>4.517106</td>\n",
              "      <td>Usual Suspects, The (1995)</td>\n",
              "      <td>Crime|Thriller</td>\n",
              "    </tr>\n",
              "    <tr>\n",
              "      <th>19</th>\n",
              "      <td>527</td>\n",
              "      <td>4.510417</td>\n",
              "      <td>Schindler's List (1993)</td>\n",
              "      <td>Drama|War</td>\n",
              "    </tr>\n",
              "    <tr>\n",
              "      <th>20</th>\n",
              "      <td>1148</td>\n",
              "      <td>4.507937</td>\n",
              "      <td>Wrong Trousers, The (1993)</td>\n",
              "      <td>Animation|Comedy</td>\n",
              "    </tr>\n",
              "    <tr>\n",
              "      <th>21</th>\n",
              "      <td>2309</td>\n",
              "      <td>4.500000</td>\n",
              "      <td>Inheritors, The (Die Siebtelbauern) (1998)</td>\n",
              "      <td>Drama</td>\n",
              "    </tr>\n",
              "    <tr>\n",
              "      <th>22</th>\n",
              "      <td>1795</td>\n",
              "      <td>4.500000</td>\n",
              "      <td>Callej�n de los milagros, El (1995)</td>\n",
              "      <td>Drama</td>\n",
              "    </tr>\n",
              "    <tr>\n",
              "      <th>23</th>\n",
              "      <td>2480</td>\n",
              "      <td>4.500000</td>\n",
              "      <td>Dry Cleaning (Nettoyage � sec) (1997)</td>\n",
              "      <td>Drama</td>\n",
              "    </tr>\n",
              "    <tr>\n",
              "      <th>24</th>\n",
              "      <td>439</td>\n",
              "      <td>4.500000</td>\n",
              "      <td>Dangerous Game (1993)</td>\n",
              "      <td>Drama</td>\n",
              "    </tr>\n",
              "  </tbody>\n",
              "</table>\n",
              "</div>"
            ],
            "text/plain": [
              "    MovieID    Rating                                              Title  \\\n",
              "0       989  5.000000          Schlafes Bruder (Brother of Sleep) (1995)   \n",
              "1      3881  5.000000                           Bittersweet Motel (2000)   \n",
              "2      1830  5.000000                            Follow the Bitch (1998)   \n",
              "3      3382  5.000000                             Song of Freedom (1936)   \n",
              "4       787  5.000000                 Gate of Heavenly Peace, The (1995)   \n",
              "5      3280  5.000000                                   Baby, The (1973)   \n",
              "6      3607  5.000000                           One Little Indian (1973)   \n",
              "7      3233  5.000000                               Smashing Time (1967)   \n",
              "8      3172  5.000000                            Ulysses (Ulisse) (1954)   \n",
              "9      3656  5.000000                                       Lured (1947)   \n",
              "10     3245  4.800000                I Am Cuba (Soy Cuba/Ya Kuba) (1964)   \n",
              "11       53  4.750000                                    Lamerica (1994)   \n",
              "12     2503  4.666667                            Apple, The (Sib) (1998)   \n",
              "13     2905  4.608696                                     Sanjuro (1962)   \n",
              "14     2019  4.560510  Seven Samurai (The Magnificent Seven) (Shichin...   \n",
              "15      318  4.554558                   Shawshank Redemption, The (1994)   \n",
              "16      858  4.524966                              Godfather, The (1972)   \n",
              "17      745  4.520548                              Close Shave, A (1995)   \n",
              "18       50  4.517106                         Usual Suspects, The (1995)   \n",
              "19      527  4.510417                            Schindler's List (1993)   \n",
              "20     1148  4.507937                         Wrong Trousers, The (1993)   \n",
              "21     2309  4.500000         Inheritors, The (Die Siebtelbauern) (1998)   \n",
              "22     1795  4.500000                Callej�n de los milagros, El (1995)   \n",
              "23     2480  4.500000              Dry Cleaning (Nettoyage � sec) (1997)   \n",
              "24      439  4.500000                              Dangerous Game (1993)   \n",
              "\n",
              "                       Genres  \n",
              "0                       Drama  \n",
              "1                 Documentary  \n",
              "2                      Comedy  \n",
              "3                       Drama  \n",
              "4                 Documentary  \n",
              "5                      Horror  \n",
              "6        Comedy|Drama|Western  \n",
              "7                      Comedy  \n",
              "8                   Adventure  \n",
              "9                       Crime  \n",
              "10                      Drama  \n",
              "11                      Drama  \n",
              "12                      Drama  \n",
              "13           Action|Adventure  \n",
              "14               Action|Drama  \n",
              "15                      Drama  \n",
              "16         Action|Crime|Drama  \n",
              "17  Animation|Comedy|Thriller  \n",
              "18             Crime|Thriller  \n",
              "19                  Drama|War  \n",
              "20           Animation|Comedy  \n",
              "21                      Drama  \n",
              "22                      Drama  \n",
              "23                      Drama  \n",
              "24                      Drama  "
            ]
          },
          "metadata": {
            "tags": []
          },
          "execution_count": 33
        }
      ]
    },
    {
      "cell_type": "markdown",
      "metadata": {
        "id": "8LOOK0Y6et8N"
      },
      "source": [
        "# **6. Find the rating for a particular user of user id = 2696**\n"
      ]
    },
    {
      "cell_type": "code",
      "metadata": {
        "id": "fMTuq8NMuwy5",
        "outputId": "b6763f36-e7fc-462f-e799-deb557ed360f",
        "colab": {
          "base_uri": "https://localhost:8080/",
          "height": 204
        }
      },
      "source": [
        "#Rating of user id 2696\n",
        "user_rating_data = ratings_df[ratings_df['UserID']==2696]\n",
        "user_rating_data.head()"
      ],
      "execution_count": null,
      "outputs": [
        {
          "output_type": "execute_result",
          "data": {
            "text/html": [
              "<div>\n",
              "<style scoped>\n",
              "    .dataframe tbody tr th:only-of-type {\n",
              "        vertical-align: middle;\n",
              "    }\n",
              "\n",
              "    .dataframe tbody tr th {\n",
              "        vertical-align: top;\n",
              "    }\n",
              "\n",
              "    .dataframe thead th {\n",
              "        text-align: right;\n",
              "    }\n",
              "</style>\n",
              "<table border=\"1\" class=\"dataframe\">\n",
              "  <thead>\n",
              "    <tr style=\"text-align: right;\">\n",
              "      <th></th>\n",
              "      <th>UserID</th>\n",
              "      <th>MovieID</th>\n",
              "      <th>Rating</th>\n",
              "      <th>Timestamp</th>\n",
              "    </tr>\n",
              "  </thead>\n",
              "  <tbody>\n",
              "    <tr>\n",
              "      <th>440667</th>\n",
              "      <td>2696</td>\n",
              "      <td>1258</td>\n",
              "      <td>4</td>\n",
              "      <td>973308710</td>\n",
              "    </tr>\n",
              "    <tr>\n",
              "      <th>440668</th>\n",
              "      <td>2696</td>\n",
              "      <td>1270</td>\n",
              "      <td>2</td>\n",
              "      <td>973308676</td>\n",
              "    </tr>\n",
              "    <tr>\n",
              "      <th>440669</th>\n",
              "      <td>2696</td>\n",
              "      <td>1617</td>\n",
              "      <td>4</td>\n",
              "      <td>973308842</td>\n",
              "    </tr>\n",
              "    <tr>\n",
              "      <th>440670</th>\n",
              "      <td>2696</td>\n",
              "      <td>1625</td>\n",
              "      <td>4</td>\n",
              "      <td>973308842</td>\n",
              "    </tr>\n",
              "    <tr>\n",
              "      <th>440671</th>\n",
              "      <td>2696</td>\n",
              "      <td>1644</td>\n",
              "      <td>2</td>\n",
              "      <td>973308920</td>\n",
              "    </tr>\n",
              "  </tbody>\n",
              "</table>\n",
              "</div>"
            ],
            "text/plain": [
              "        UserID  MovieID  Rating  Timestamp\n",
              "440667    2696     1258       4  973308710\n",
              "440668    2696     1270       2  973308676\n",
              "440669    2696     1617       4  973308842\n",
              "440670    2696     1625       4  973308842\n",
              "440671    2696     1644       2  973308920"
            ]
          },
          "metadata": {
            "tags": []
          },
          "execution_count": 34
        }
      ]
    },
    {
      "cell_type": "code",
      "metadata": {
        "id": "IvNrDAh0uw7n",
        "outputId": "1039daa1-4459-4ae9-8088-e0adf9588442",
        "colab": {
          "base_uri": "https://localhost:8080/",
          "height": 620
        }
      },
      "source": [
        "\n",
        "# plott the scatter graph\n",
        "plt.figure(figsize=(10,10))\n",
        "plt.scatter(x=user_rating_data['MovieID'], y=user_rating_data['Rating'])\n",
        "plt.title('Ratings of user id 2696')\n",
        "plt.xlabel('MovieId')\n",
        "plt.ylabel('Ratings')\n",
        "plt.show()"
      ],
      "execution_count": null,
      "outputs": [
        {
          "output_type": "display_data",
          "data": {
            "image/png": "[encoded data removed]",
            "text/plain": [
              "<Figure size 720x720 with 1 Axes>"
            ]
          },
          "metadata": {
            "tags": []
          }
        }
      ]
    },
    {
      "cell_type": "code",
      "metadata": {
        "id": "GfuxXzaNuw_Z",
        "outputId": "a8860e63-f897-4159-ac96-f6d521ca7b14",
        "colab": {
          "base_uri": "https://localhost:8080/",
          "height": 304
        }
      },
      "source": [
        "from pandas.plotting import scatter_matrix\n",
        "scatter_matrix(user_rating_data)\n",
        "plt.figure(figsize=(15,15))\n",
        "plt.show()"
      ],
      "execution_count": null,
      "outputs": [
        {
          "output_type": "display_data",
          "data": {
            "image/png": "[encoded data removed]",
            "text/plain": [
              "<Figure size 432x288 with 9 Axes>"
            ]
          },
          "metadata": {
            "tags": []
          }
        },
        {
          "output_type": "display_data",
          "data": {
            "text/plain": [
              "<Figure size 1080x1080 with 0 Axes>"
            ]
          },
          "metadata": {
            "tags": []
          }
        }
      ]
    },
    {
      "cell_type": "markdown",
      "metadata": {
        "id": "uqtHDisU617E"
      },
      "source": [
        "# **Perform machine learning on first 500 extracted records**\n"
      ]
    },
    {
      "cell_type": "code",
      "metadata": {
        "id": "cliMsiKwuxCa",
        "outputId": "49f3e91b-58ed-470d-ba8d-6839de73feab",
        "colab": {
          "base_uri": "https://localhost:8080/",
          "height": 34
        }
      },
      "source": [
        "#get first 500 records from viewership dataset\n",
        "viewership500 = viewership.head(500)\n",
        "viewership500.shape"
      ],
      "execution_count": null,
      "outputs": [
        {
          "output_type": "execute_result",
          "data": {
            "text/plain": [
              "(500, 8)"
            ]
          },
          "metadata": {
            "tags": []
          },
          "execution_count": 42
        }
      ]
    },
    {
      "cell_type": "code",
      "metadata": {
        "id": "39WzEtbzuxFK",
        "outputId": "53df7881-ae88-41e1-c820-27aedbf2165b",
        "colab": {
          "base_uri": "https://localhost:8080/",
          "height": 204
        }
      },
      "source": [
        "viewership500.head()"
      ],
      "execution_count": null,
      "outputs": [
        {
          "output_type": "execute_result",
          "data": {
            "text/html": [
              "<div>\n",
              "<style scoped>\n",
              "    .dataframe tbody tr th:only-of-type {\n",
              "        vertical-align: middle;\n",
              "    }\n",
              "\n",
              "    .dataframe tbody tr th {\n",
              "        vertical-align: top;\n",
              "    }\n",
              "\n",
              "    .dataframe thead th {\n",
              "        text-align: right;\n",
              "    }\n",
              "</style>\n",
              "<table border=\"1\" class=\"dataframe\">\n",
              "  <thead>\n",
              "    <tr style=\"text-align: right;\">\n",
              "      <th></th>\n",
              "      <th>UserID</th>\n",
              "      <th>MovieID</th>\n",
              "      <th>Rating</th>\n",
              "      <th>Timestamp</th>\n",
              "      <th>Gender</th>\n",
              "      <th>Age</th>\n",
              "      <th>Occupation</th>\n",
              "      <th>Zip-code</th>\n",
              "    </tr>\n",
              "  </thead>\n",
              "  <tbody>\n",
              "    <tr>\n",
              "      <th>0</th>\n",
              "      <td>1</td>\n",
              "      <td>1193</td>\n",
              "      <td>5</td>\n",
              "      <td>978300760</td>\n",
              "      <td>F</td>\n",
              "      <td>1</td>\n",
              "      <td>10</td>\n",
              "      <td>48067</td>\n",
              "    </tr>\n",
              "    <tr>\n",
              "      <th>1</th>\n",
              "      <td>1</td>\n",
              "      <td>661</td>\n",
              "      <td>3</td>\n",
              "      <td>978302109</td>\n",
              "      <td>F</td>\n",
              "      <td>1</td>\n",
              "      <td>10</td>\n",
              "      <td>48067</td>\n",
              "    </tr>\n",
              "    <tr>\n",
              "      <th>2</th>\n",
              "      <td>1</td>\n",
              "      <td>914</td>\n",
              "      <td>3</td>\n",
              "      <td>978301968</td>\n",
              "      <td>F</td>\n",
              "      <td>1</td>\n",
              "      <td>10</td>\n",
              "      <td>48067</td>\n",
              "    </tr>\n",
              "    <tr>\n",
              "      <th>3</th>\n",
              "      <td>1</td>\n",
              "      <td>3408</td>\n",
              "      <td>4</td>\n",
              "      <td>978300275</td>\n",
              "      <td>F</td>\n",
              "      <td>1</td>\n",
              "      <td>10</td>\n",
              "      <td>48067</td>\n",
              "    </tr>\n",
              "    <tr>\n",
              "      <th>4</th>\n",
              "      <td>1</td>\n",
              "      <td>2355</td>\n",
              "      <td>5</td>\n",
              "      <td>978824291</td>\n",
              "      <td>F</td>\n",
              "      <td>1</td>\n",
              "      <td>10</td>\n",
              "      <td>48067</td>\n",
              "    </tr>\n",
              "  </tbody>\n",
              "</table>\n",
              "</div>"
            ],
            "text/plain": [
              "   UserID  MovieID  Rating  Timestamp Gender  Age  Occupation Zip-code\n",
              "0       1     1193       5  978300760      F    1          10    48067\n",
              "1       1      661       3  978302109      F    1          10    48067\n",
              "2       1      914       3  978301968      F    1          10    48067\n",
              "3       1     3408       4  978300275      F    1          10    48067\n",
              "4       1     2355       5  978824291      F    1          10    48067"
            ]
          },
          "metadata": {
            "tags": []
          },
          "execution_count": 43
        }
      ]
    },
    {
      "cell_type": "code",
      "metadata": {
        "id": "8YGyXHkKuxIO",
        "outputId": "082fd3e0-1cc0-4eb8-d006-9d8096c23b95",
        "colab": {
          "base_uri": "https://localhost:8080/",
          "height": 408
        }
      },
      "source": [
        "\n",
        "# preprocess data\n",
        "from sklearn.preprocessing import LabelEncoder\n",
        "le = LabelEncoder()\n",
        "\n",
        "le.fit(viewership500['Age'])\n",
        "x_age = le.transform(viewership500['Age'])\n",
        "x_age"
      ],
      "execution_count": null,
      "outputs": [
        {
          "output_type": "execute_result",
          "data": {
            "text/plain": [
              "array([0, 0, 0, 0, 0, 0, 0, 0, 0, 0, 0, 0, 0, 0, 0, 0, 0, 0, 0, 0, 0, 0,\n",
              "       0, 0, 0, 0, 0, 0, 0, 0, 0, 0, 0, 0, 0, 0, 0, 0, 0, 0, 0, 0, 0, 0,\n",
              "       0, 0, 0, 0, 0, 0, 0, 0, 0, 4, 4, 4, 4, 4, 4, 4, 4, 4, 4, 4, 4, 4,\n",
              "       4, 4, 4, 4, 4, 4, 4, 4, 4, 4, 4, 4, 4, 4, 4, 4, 4, 4, 4, 4, 4, 4,\n",
              "       4, 4, 4, 4, 4, 4, 4, 4, 4, 4, 4, 4, 4, 4, 4, 4, 4, 4, 4, 4, 4, 4,\n",
              "       4, 4, 4, 4, 4, 4, 4, 4, 4, 4, 4, 4, 4, 4, 4, 4, 4, 4, 4, 4, 4, 4,\n",
              "       4, 4, 4, 4, 4, 4, 4, 4, 4, 4, 4, 4, 4, 4, 4, 4, 4, 4, 4, 4, 4, 4,\n",
              "       4, 4, 4, 4, 4, 4, 4, 4, 4, 4, 4, 4, 4, 4, 4, 4, 4, 4, 4, 4, 4, 4,\n",
              "       4, 4, 4, 4, 4, 4, 1, 1, 1, 1, 1, 1, 1, 1, 1, 1, 1, 1, 1, 1, 1, 1,\n",
              "       1, 1, 1, 1, 1, 1, 1, 1, 1, 1, 1, 1, 1, 1, 1, 1, 1, 1, 1, 1, 1, 1,\n",
              "       1, 1, 1, 1, 1, 1, 1, 1, 1, 1, 1, 1, 1, 2, 2, 2, 2, 2, 2, 2, 2, 2,\n",
              "       2, 2, 2, 2, 2, 2, 2, 2, 2, 2, 2, 2, 1, 1, 1, 1, 1, 1, 1, 1, 1, 1,\n",
              "       1, 1, 1, 1, 1, 1, 1, 1, 1, 1, 1, 1, 1, 1, 1, 1, 1, 1, 1, 1, 1, 1,\n",
              "       1, 1, 1, 1, 1, 1, 1, 1, 1, 1, 1, 1, 1, 1, 1, 1, 1, 1, 1, 1, 1, 1,\n",
              "       1, 1, 1, 1, 1, 1, 1, 1, 1, 1, 1, 1, 1, 1, 1, 1, 1, 1, 1, 1, 1, 1,\n",
              "       1, 1, 1, 1, 1, 1, 1, 1, 1, 1, 1, 1, 1, 1, 1, 1, 1, 1, 1, 1, 1, 1,\n",
              "       1, 1, 1, 1, 1, 1, 1, 1, 1, 1, 1, 1, 1, 1, 1, 1, 1, 1, 1, 1, 1, 1,\n",
              "       1, 1, 1, 1, 1, 1, 1, 1, 1, 1, 1, 1, 1, 1, 1, 1, 1, 1, 1, 1, 1, 1,\n",
              "       1, 1, 1, 1, 1, 1, 1, 1, 1, 1, 1, 1, 1, 1, 1, 1, 1, 1, 1, 1, 1, 1,\n",
              "       1, 1, 1, 1, 1, 1, 1, 1, 1, 1, 1, 1, 1, 1, 1, 1, 1, 1, 1, 1, 1, 1,\n",
              "       1, 1, 1, 1, 1, 1, 1, 1, 1, 1, 1, 1, 3, 3, 3, 3, 3, 3, 3, 3, 3, 3,\n",
              "       3, 3, 3, 3, 3, 3, 3, 3, 3, 3, 3, 3, 3, 3, 3, 3, 3, 3, 3, 3, 3, 3,\n",
              "       3, 3, 3, 3, 3, 3, 3, 3, 3, 3, 3, 3, 3, 3, 3, 3])"
            ]
          },
          "metadata": {
            "tags": []
          },
          "execution_count": 46
        }
      ]
    },
    {
      "cell_type": "code",
      "metadata": {
        "id": "tayP3msFuxKu",
        "outputId": "6ac28b19-565c-429f-e97f-1f6fcc938d18",
        "colab": {
          "base_uri": "https://localhost:8080/",
          "height": 408
        }
      },
      "source": [
        "le.fit(viewership500['Occupation'])\n",
        "x_occ = le.transform(viewership500['Occupation'])\n",
        "x_occ"
      ],
      "execution_count": null,
      "outputs": [
        {
          "output_type": "execute_result",
          "data": {
            "text/plain": [
              "array([2, 2, 2, 2, 2, 2, 2, 2, 2, 2, 2, 2, 2, 2, 2, 2, 2, 2, 2, 2, 2, 2,\n",
              "       2, 2, 2, 2, 2, 2, 2, 2, 2, 2, 2, 2, 2, 2, 2, 2, 2, 2, 2, 2, 2, 2,\n",
              "       2, 2, 2, 2, 2, 2, 2, 2, 2, 4, 4, 4, 4, 4, 4, 4, 4, 4, 4, 4, 4, 4,\n",
              "       4, 4, 4, 4, 4, 4, 4, 4, 4, 4, 4, 4, 4, 4, 4, 4, 4, 4, 4, 4, 4, 4,\n",
              "       4, 4, 4, 4, 4, 4, 4, 4, 4, 4, 4, 4, 4, 4, 4, 4, 4, 4, 4, 4, 4, 4,\n",
              "       4, 4, 4, 4, 4, 4, 4, 4, 4, 4, 4, 4, 4, 4, 4, 4, 4, 4, 4, 4, 4, 4,\n",
              "       4, 4, 4, 4, 4, 4, 4, 4, 4, 4, 4, 4, 4, 4, 4, 4, 4, 4, 4, 4, 4, 4,\n",
              "       4, 4, 4, 4, 4, 4, 4, 4, 4, 4, 4, 4, 4, 4, 4, 4, 4, 4, 4, 4, 4, 4,\n",
              "       4, 4, 4, 4, 4, 4, 3, 3, 3, 3, 3, 3, 3, 3, 3, 3, 3, 3, 3, 3, 3, 3,\n",
              "       3, 3, 3, 3, 3, 3, 3, 3, 3, 3, 3, 3, 3, 3, 3, 3, 3, 3, 3, 3, 3, 3,\n",
              "       3, 3, 3, 3, 3, 3, 3, 3, 3, 3, 3, 3, 3, 0, 0, 0, 0, 0, 0, 0, 0, 0,\n",
              "       0, 0, 0, 0, 0, 0, 0, 0, 0, 0, 0, 0, 5, 5, 5, 5, 5, 5, 5, 5, 5, 5,\n",
              "       5, 5, 5, 5, 5, 5, 5, 5, 5, 5, 5, 5, 5, 5, 5, 5, 5, 5, 5, 5, 5, 5,\n",
              "       5, 5, 5, 5, 5, 5, 5, 5, 5, 5, 5, 5, 5, 5, 5, 5, 5, 5, 5, 5, 5, 5,\n",
              "       5, 5, 5, 5, 5, 5, 5, 5, 5, 5, 5, 5, 5, 5, 5, 5, 5, 5, 5, 5, 5, 5,\n",
              "       5, 5, 5, 5, 5, 5, 5, 5, 5, 5, 5, 5, 5, 5, 5, 5, 5, 5, 5, 5, 5, 5,\n",
              "       5, 5, 5, 5, 5, 5, 5, 5, 5, 5, 5, 5, 5, 5, 5, 5, 5, 5, 5, 5, 5, 5,\n",
              "       5, 5, 5, 5, 5, 5, 5, 5, 5, 5, 5, 5, 5, 5, 5, 5, 5, 5, 5, 5, 5, 5,\n",
              "       5, 5, 5, 5, 5, 5, 5, 5, 5, 5, 5, 5, 5, 5, 5, 5, 5, 5, 5, 5, 5, 5,\n",
              "       5, 5, 5, 5, 5, 5, 5, 5, 5, 5, 5, 5, 5, 5, 5, 5, 5, 5, 5, 5, 5, 5,\n",
              "       5, 5, 5, 5, 5, 5, 5, 5, 5, 5, 5, 5, 1, 1, 1, 1, 1, 1, 1, 1, 1, 1,\n",
              "       1, 1, 1, 1, 1, 1, 1, 1, 1, 1, 1, 1, 1, 1, 1, 1, 1, 1, 1, 1, 1, 1,\n",
              "       1, 1, 1, 1, 1, 1, 1, 1, 1, 1, 1, 1, 1, 1, 1, 1])"
            ]
          },
          "metadata": {
            "tags": []
          },
          "execution_count": 47
        }
      ]
    },
    {
      "cell_type": "code",
      "metadata": {
        "id": "loU_4WQmyZhG",
        "outputId": "2c1019db-78bf-4276-a8c0-561facc0d630",
        "colab": {
          "base_uri": "https://localhost:8080/",
          "height": 680
        }
      },
      "source": [
        "le.fit(viewership500['MovieID'])\n",
        "x_movieid = le.transform(viewership500['MovieID'])\n",
        "x_movieid"
      ],
      "execution_count": null,
      "outputs": [
        {
          "output_type": "execute_result",
          "data": {
            "text/plain": [
              "array([130,  78,  95, 374, 280, 132, 156, 321,  71,  96,  72,  98, 287,\n",
              "       330, 107, 318, 304, 251, 355, 319, 274,  80, 154,  61, 278,  12,\n",
              "       119, 211, 186,  84, 271, 364, 189,  67, 231,  86, 226, 103, 316,\n",
              "        18,   0, 243, 244, 305,  29, 104, 105, 135, 252,  62, 359,  74,\n",
              "       145, 161, 346, 184,  75, 264,  76, 266, 302, 121, 329, 379, 136,\n",
              "       222, 205, 137, 392, 326, 342, 139, 355,  49, 260, 356, 357, 343,\n",
              "       148, 194,  33, 265, 347,  92,  44, 149, 360, 185, 158, 127, 366,\n",
              "       367, 368,  17, 267, 293, 225, 380,  68, 207, 398, 323, 237, 100,\n",
              "       227, 324, 140, 252,  60,  50, 272,  30, 170, 113, 403,  54, 173,\n",
              "       255, 151, 162, 130, 224, 163, 279, 372, 289,  69, 131, 187,  83,\n",
              "       133,  70, 281,  15, 308, 297, 234, 286, 407, 239, 193, 413, 240,\n",
              "       241,  28, 122, 242,  20,   3,  21, 274, 115,  46, 294,  39,  51,\n",
              "       118,  97,  52, 181, 376, 166, 378, 353,  85,  56, 312, 247, 244,\n",
              "       220, 331, 248,  36, 135, 246, 400, 143,  41, 144, 145, 415, 146,\n",
              "       377, 198,  76, 169, 389,  16, 314, 136, 172, 414, 112, 338, 195,\n",
              "       157, 149,  77, 262, 191, 396,  29, 324, 359, 111, 150,  64,  54,\n",
              "       151, 152,  82, 131,  69, 280, 132, 133, 164,  70, 165, 391, 160,\n",
              "       154, 292, 362, 301, 243, 399, 248, 325, 259, 246, 124, 257, 379,\n",
              "       136, 333, 138, 108,  29, 252,  54, 131, 133, 240, 119, 376, 404,\n",
              "       282, 167, 388, 134, 305, 332, 141, 337, 276, 126,   9,  32, 277,\n",
              "       183, 168, 266, 175,  89, 203,  90, 204, 329, 317,  25, 219,  57,\n",
              "       392,  58, 147, 411,  59,  10, 194, 254, 412, 338,  11, 306,  34,\n",
              "        66, 196,  81,  35, 350, 296, 232,  18,  26, 406,  27,   1, 339,\n",
              "       324, 110,  60,  87,  13,  14, 128, 129,  82, 351,  45, 279, 153,\n",
              "       352, 289, 385, 290, 280, 268, 386, 188, 233,  70, 281, 307, 176,\n",
              "       308, 297, 269,  19, 123, 340, 256, 208, 361, 291, 270, 197, 155,\n",
              "       309, 310, 235, 311, 236, 298, 373, 408,  99,  91, 341, 221,  36,\n",
              "        22,  53,  74, 171, 261, 209, 199, 365, 363, 210, 322, 313, 200,\n",
              "        37, 249, 354, 334, 137, 223, 299, 177, 355, 335, 178, 211, 212,\n",
              "       201,  93, 191, 202, 283, 213, 381, 327, 358, 252,   2,  30, 253,\n",
              "        23,  63, 179, 344, 273, 180, 114, 369,  94, 214, 374, 375, 300,\n",
              "       174, 215, 216, 284, 217, 370, 371,  96, 397, 285, 192, 303,  48,\n",
              "       315, 101, 228, 229,  31,   4, 345,  38, 275, 116,   5,  65, 117,\n",
              "       181, 182, 376, 263,  55,  24, 218, 328, 316, 305, 245, 382,  40,\n",
              "         6, 142, 230, 125, 410,   7,  41,  42,   8,  79, 288, 120, 405,\n",
              "       106, 206, 107, 392,  43, 383, 348,  44,  34,  12, 349, 127, 384,\n",
              "        67,   0, 109, 324,  45,  69,  72,  73,  47, 295, 387, 189, 190,\n",
              "       248, 257, 258, 393, 394, 320, 389, 390, 136, 409, 401, 250, 402,\n",
              "       395, 159,  88, 102, 238, 336])"
            ]
          },
          "metadata": {
            "tags": []
          },
          "execution_count": 48
        }
      ]
    },
    {
      "cell_type": "code",
      "metadata": {
        "id": "Vxl_6zgiyZnW",
        "outputId": "a364330e-80df-4b88-e199-2060fd5e6369",
        "colab": {
          "base_uri": "https://localhost:8080/",
          "height": 323
        }
      },
      "source": [
        "viewership500['New Age'] = x_age\n",
        "viewership500['New Occupation'] = x_occ\n",
        "viewership500['New MovieID'] = x_movieid"
      ],
      "execution_count": null,
      "outputs": [
        {
          "output_type": "stream",
          "text": [
            "/usr/local/lib/python2.7/dist-packages/ipykernel_launcher.py:1: SettingWithCopyWarning: \n",
            "A value is trying to be set on a copy of a slice from a DataFrame.\n",
            "Try using .loc[row_indexer,col_indexer] = value instead\n",
            "\n",
            "See the caveats in the documentation: http://pandas.pydata.org/pandas-docs/stable/indexing.html#indexing-view-versus-copy\n",
            "  \"\"\"Entry point for launching an IPython kernel.\n",
            "/usr/local/lib/python2.7/dist-packages/ipykernel_launcher.py:2: SettingWithCopyWarning: \n",
            "A value is trying to be set on a copy of a slice from a DataFrame.\n",
            "Try using .loc[row_indexer,col_indexer] = value instead\n",
            "\n",
            "See the caveats in the documentation: http://pandas.pydata.org/pandas-docs/stable/indexing.html#indexing-view-versus-copy\n",
            "  \n",
            "/usr/local/lib/python2.7/dist-packages/ipykernel_launcher.py:3: SettingWithCopyWarning: \n",
            "A value is trying to be set on a copy of a slice from a DataFrame.\n",
            "Try using .loc[row_indexer,col_indexer] = value instead\n",
            "\n",
            "See the caveats in the documentation: http://pandas.pydata.org/pandas-docs/stable/indexing.html#indexing-view-versus-copy\n",
            "  This is separate from the ipykernel package so we can avoid doing imports until\n"
          ],
          "name": "stderr"
        }
      ]
    },
    {
      "cell_type": "code",
      "metadata": {
        "id": "QbHxpXUayZq2"
      },
      "source": [
        "\n",
        "# Feature Selection\n",
        "x_input = viewership500[['New Age','New Occupation','New MovieID']]\n",
        "y_target = viewership500['Rating']"
      ],
      "execution_count": null,
      "outputs": []
    },
    {
      "cell_type": "code",
      "metadata": {
        "id": "QRqCX8cJyZty",
        "outputId": "683e4167-36ef-4782-f80f-0ffbabf5c65d",
        "colab": {
          "base_uri": "https://localhost:8080/",
          "height": 204
        }
      },
      "source": [
        "x_input.head()"
      ],
      "execution_count": null,
      "outputs": [
        {
          "output_type": "execute_result",
          "data": {
            "text/html": [
              "<div>\n",
              "<style scoped>\n",
              "    .dataframe tbody tr th:only-of-type {\n",
              "        vertical-align: middle;\n",
              "    }\n",
              "\n",
              "    .dataframe tbody tr th {\n",
              "        vertical-align: top;\n",
              "    }\n",
              "\n",
              "    .dataframe thead th {\n",
              "        text-align: right;\n",
              "    }\n",
              "</style>\n",
              "<table border=\"1\" class=\"dataframe\">\n",
              "  <thead>\n",
              "    <tr style=\"text-align: right;\">\n",
              "      <th></th>\n",
              "      <th>New Age</th>\n",
              "      <th>New Occupation</th>\n",
              "      <th>New MovieID</th>\n",
              "    </tr>\n",
              "  </thead>\n",
              "  <tbody>\n",
              "    <tr>\n",
              "      <th>0</th>\n",
              "      <td>0</td>\n",
              "      <td>2</td>\n",
              "      <td>130</td>\n",
              "    </tr>\n",
              "    <tr>\n",
              "      <th>1</th>\n",
              "      <td>0</td>\n",
              "      <td>2</td>\n",
              "      <td>78</td>\n",
              "    </tr>\n",
              "    <tr>\n",
              "      <th>2</th>\n",
              "      <td>0</td>\n",
              "      <td>2</td>\n",
              "      <td>95</td>\n",
              "    </tr>\n",
              "    <tr>\n",
              "      <th>3</th>\n",
              "      <td>0</td>\n",
              "      <td>2</td>\n",
              "      <td>374</td>\n",
              "    </tr>\n",
              "    <tr>\n",
              "      <th>4</th>\n",
              "      <td>0</td>\n",
              "      <td>2</td>\n",
              "      <td>280</td>\n",
              "    </tr>\n",
              "  </tbody>\n",
              "</table>\n",
              "</div>"
            ],
            "text/plain": [
              "   New Age  New Occupation  New MovieID\n",
              "0        0               2          130\n",
              "1        0               2           78\n",
              "2        0               2           95\n",
              "3        0               2          374\n",
              "4        0               2          280"
            ]
          },
          "metadata": {
            "tags": []
          },
          "execution_count": 51
        }
      ]
    },
    {
      "cell_type": "code",
      "metadata": {
        "id": "Esafg7yQffxQ",
        "outputId": "ba2b2c1f-1dd4-40bf-dc16-9f3f06e7bc02",
        "colab": {
          "base_uri": "https://localhost:8080/",
          "height": 119
        }
      },
      "source": [
        "#view first 5 target data\n",
        "y_target.head()"
      ],
      "execution_count": null,
      "outputs": [
        {
          "output_type": "execute_result",
          "data": {
            "text/plain": [
              "0    5\n",
              "1    3\n",
              "2    3\n",
              "3    4\n",
              "4    5\n",
              "Name: Rating, dtype: int32"
            ]
          },
          "metadata": {
            "tags": []
          },
          "execution_count": 52
        }
      ]
    },
    {
      "cell_type": "code",
      "metadata": {
        "id": "LMWtsK1ryZzI"
      },
      "source": [
        "# Split-out validation dataset\n",
        "x_train, x_test, y_train, y_test = train_test_split(x_input, y_target, test_size=0.25)"
      ],
      "execution_count": null,
      "outputs": []
    },
    {
      "cell_type": "code",
      "metadata": {
        "id": "609VuO5cyZ16",
        "outputId": "f751e54d-1d80-4758-9cb3-96b2f1d4ade6",
        "colab": {
          "base_uri": "https://localhost:8080/",
          "height": 34
        }
      },
      "source": [
        "x_train.shape, x_test.shape, y_train.shape, y_test.shape"
      ],
      "execution_count": null,
      "outputs": [
        {
          "output_type": "execute_result",
          "data": {
            "text/plain": [
              "((375, 3), (125, 3), (375,), (125,))"
            ]
          },
          "metadata": {
            "tags": []
          },
          "execution_count": 54
        }
      ]
    },
    {
      "cell_type": "code",
      "metadata": {
        "id": "jKfAX6PhyZ4s"
      },
      "source": [
        "from sklearn.linear_model import LogisticRegression\n",
        "logReg = LogisticRegression()\n",
        "LRModel = logReg.fit(x_train,y_train)"
      ],
      "execution_count": null,
      "outputs": []
    },
    {
      "cell_type": "code",
      "metadata": {
        "id": "_V-D8ywYyZ7Y",
        "outputId": "84b716e8-c731-4de0-f7e3-32afa2530efc",
        "colab": {
          "base_uri": "https://localhost:8080/",
          "height": 119
        }
      },
      "source": [
        "result = LRModel.predict(x_test)\n",
        "result"
      ],
      "execution_count": null,
      "outputs": [
        {
          "output_type": "execute_result",
          "data": {
            "text/plain": [
              "array([4, 3, 3, 3, 3, 4, 4, 3, 4, 4, 4, 4, 4, 3, 3, 4, 3, 4, 4, 4, 4, 3,\n",
              "       3, 4, 3, 4, 3, 4, 4, 3, 4, 4, 4, 3, 4, 4, 3, 4, 4, 4, 4, 4, 3, 4,\n",
              "       4, 3, 4, 4, 3, 4, 4, 3, 4, 4, 4, 4, 4, 4, 3, 4, 4, 3, 4, 3, 3, 4,\n",
              "       4, 4, 4, 3, 4, 4, 4, 4, 4, 3, 4, 4, 4, 4, 4, 4, 4, 4, 3, 3, 4, 3,\n",
              "       4, 4, 3, 3, 4, 3, 3, 4, 4, 4, 3, 4, 4, 4, 3, 4, 4, 3, 3, 3, 4, 3,\n",
              "       3, 4, 3, 3, 3, 3, 4, 3, 4, 4, 4, 4, 4, 4, 3], dtype=int32)"
            ]
          },
          "metadata": {
            "tags": []
          },
          "execution_count": 96
        }
      ]
    },
    {
      "cell_type": "code",
      "metadata": {
        "id": "lJij_cfeyzw3",
        "outputId": "0c7394d2-9c08-480b-cc9e-06216efd6edd",
        "colab": {
          "base_uri": "https://localhost:8080/",
          "height": 323
        }
      },
      "source": [
        "# print metrics\n",
        "print (accuracy_score(y_test, result))\n",
        "print (confusion_matrix(y_test, result))\n",
        "print (classification_report(y_test, result))"
      ],
      "execution_count": null,
      "outputs": [
        {
          "output_type": "stream",
          "text": [
            "0.376\n",
            "[[ 0  0  4  1  0]\n",
            " [ 0  0  6  8  0]\n",
            " [ 0  0 14 16  0]\n",
            " [ 0  0 13 33  0]\n",
            " [ 0  0  8 22  0]]\n",
            "              precision    recall  f1-score   support\n",
            "\n",
            "           1       0.00      0.00      0.00         5\n",
            "           2       0.00      0.00      0.00        14\n",
            "           3       0.31      0.47      0.37        30\n",
            "           4       0.41      0.72      0.52        46\n",
            "           5       0.00      0.00      0.00        30\n",
            "\n",
            "   micro avg       0.38      0.38      0.38       125\n",
            "   macro avg       0.14      0.24      0.18       125\n",
            "weighted avg       0.23      0.38      0.28       125\n",
            "\n"
          ],
          "name": "stdout"
        }
      ]
    },
    {
      "cell_type": "markdown",
      "metadata": {
        "id": "PoZNufp55Jsv"
      },
      "source": [
        "# ***Finding: Accuracy score is 37%***"
      ]
    },
    {
      "cell_type": "code",
      "metadata": {
        "id": "gpRKvTzQyzzk",
        "outputId": "4878c82a-053b-4b5a-8cc5-5897a08fa0d0",
        "colab": {
          "base_uri": "https://localhost:8080/",
          "height": 592
        }
      },
      "source": [
        "\n",
        "# Plot the histogram\n",
        "plt.figure(figsize=(20,10))\n",
        "plt.hist(x=x_input)\n",
        "plt.legend()\n",
        "plt.show()"
      ],
      "execution_count": null,
      "outputs": [
        {
          "output_type": "display_data",
          "data": {
            "image/png": "[encoded data removed]",
            "text/plain": [
              "<Figure size 1440x720 with 1 Axes>"
            ]
          },
          "metadata": {
            "tags": []
          }
        }
      ]
    },
    {
      "cell_type": "code",
      "metadata": {
        "id": "edNeV-r_yz2R",
        "outputId": "c6f2fcad-95e7-419f-9423-5c79fadd7bf8",
        "colab": {
          "base_uri": "https://localhost:8080/",
          "height": 119
        }
      },
      "source": [
        "# evaluate cross_val_score\n",
        "seed=7\n",
        "models = []\n",
        "models.append(('LR', LogisticRegression()))\n",
        "models.append(('LDA', LinearDiscriminantAnalysis()))\n",
        "models.append(('KNN', KNeighborsClassifier()))\n",
        "models.append(('CART', DecisionTreeClassifier()))\n",
        "models.append(('NB', GaussianNB()))\n",
        "models.append(('SVM', SVC()))\n",
        "# evaluate each model in turn\n",
        "results = []\n",
        "names = []\n",
        "for name, model in models:\n",
        "    kfold = KFold(n_splits=10, random_state=seed)\n",
        "    cv_results = cross_val_score(model, x_train, y_train, cv=kfold, scoring='accuracy')\n",
        "    results.append(cv_results)\n",
        "    names.append(name)\n",
        "    msg = \"%s: %f (%f)\" % (name, cv_results.mean(), cv_results.std())\n",
        "    print(msg)"
      ],
      "execution_count": null,
      "outputs": [
        {
          "output_type": "stream",
          "text": [
            "LR: 0.328165 (0.041068)\n",
            "LDA: 0.325462 (0.051030)\n",
            "KNN: 0.290967 (0.057693)\n",
            "CART: 0.239616 (0.072526)\n",
            "NB: 0.309175 (0.034807)\n",
            "SVM: 0.300853 (0.090687)\n"
          ],
          "name": "stdout"
        }
      ]
    },
    {
      "cell_type": "code",
      "metadata": {
        "id": "gaoBfORsyz43",
        "outputId": "ce1df6a4-99f8-41da-9de3-fc18c357d3a3",
        "colab": {
          "base_uri": "https://localhost:8080/",
          "height": 294
        }
      },
      "source": [
        "# Compare Algorithms\n",
        "fig = plt.figure()\n",
        "fig.suptitle('Algorithm Comparison')\n",
        "ax = fig.add_subplot(111)\n",
        "plt.boxplot(results)\n",
        "ax.set_xticklabels(names)\n",
        "plt.show()"
      ],
      "execution_count": null,
      "outputs": [
        {
          "output_type": "display_data",
          "data": {
            "image/png": "[encoded data removed]",
            "text/plain": [
              "<Figure size 432x288 with 1 Axes>"
            ]
          },
          "metadata": {
            "tags": []
          }
        }
      ]
    },
    {
      "cell_type": "code",
      "metadata": {
        "id": "vK1okTzdyz7d"
      },
      "source": [
        ""
      ],
      "execution_count": null,
      "outputs": []
    },
    {
      "cell_type": "code",
      "metadata": {
        "id": "cz2Q6DB8yz-A"
      },
      "source": [
        ""
      ],
      "execution_count": null,
      "outputs": []
    },
    {
      "cell_type": "code",
      "metadata": {
        "id": "3v0c5F7Jy0Aw"
      },
      "source": [
        ""
      ],
      "execution_count": null,
      "outputs": []
    }
  ]
}